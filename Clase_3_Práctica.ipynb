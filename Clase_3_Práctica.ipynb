{
  "nbformat": 4,
  "nbformat_minor": 0,
  "metadata": {
    "colab": {
      "name": "Clase_3_Práctica.ipynb",
      "provenance": [],
      "collapsed_sections": [],
      "include_colab_link": true
    },
    "kernelspec": {
      "name": "ir",
      "display_name": "R"
    },
    "language_info": {
      "name": "R"
    }
  },
  "cells": [
    {
      "cell_type": "markdown",
      "metadata": {
        "id": "view-in-github",
        "colab_type": "text"
      },
      "source": [
        "<a href=\"https://colab.research.google.com/github/NatyEsquenazi/Data-Visualization/blob/main/Clase_3_Pr%C3%A1ctica.ipynb\" target=\"_parent\"><img src=\"https://colab.research.google.com/assets/colab-badge.svg\" alt=\"Open In Colab\"/></a>"
      ]
    },
    {
      "cell_type": "markdown",
      "metadata": {
        "id": "voLf53rF-ZD3"
      },
      "source": [
        "# Práctica integradora\n",
        "## Introducción\n",
        "La idea de este notebook es avanzar en una primera práctica integradora de los varios conceptos y técnicas que estuvimos trabajando en el seminario. Vamos a trabajar con un dataset trístemente célebre: la base de datos de testeos que publica diariamente el Ministerio de Salud.\n",
        "\n",
        "En realidad, vamos a trabajar (para reducir el tamaño del archivo y hacerlo operable) con una muestra semanal de aproximadamente el 3% de los datos. Los datos originales pueden encontrarlos [en este link](http://datos.salud.gob.ar/dataset/covid-19-casos-registrados-en-la-republica-argentina).\n",
        "\n",
        "<img src=\"https://github.com/gefero/idaes_viz/blob/main/imgs/clase_03_msal.png?raw=true\" width=\"750\" height=\"475\"/>\n",
        "\n",
        "Vamos a importar la librería `tidyverse` y a cargar los datos:"
      ]
    },
    {
      "cell_type": "code",
      "metadata": {
        "id": "K0BpZ2E2BoG8",
        "colab": {
          "base_uri": "https://localhost:8080/"
        },
        "outputId": "0d050e0b-eeb6-4ead-e098-342023a9568e"
      },
      "source": [
        "library(tidyverse)"
      ],
      "execution_count": null,
      "outputs": [
        {
          "output_type": "stream",
          "text": [
            "Warning message in system(\"timedatectl\", intern = TRUE):\n",
            "“running command 'timedatectl' had status 1”\n",
            "── \u001b[1mAttaching packages\u001b[22m ─────────────────────────────────────── tidyverse 1.3.1 ──\n",
            "\n",
            "\u001b[32m✔\u001b[39m \u001b[34mggplot2\u001b[39m 3.3.3     \u001b[32m✔\u001b[39m \u001b[34mpurrr  \u001b[39m 0.3.4\n",
            "\u001b[32m✔\u001b[39m \u001b[34mtibble \u001b[39m 3.1.1     \u001b[32m✔\u001b[39m \u001b[34mdplyr  \u001b[39m 1.0.5\n",
            "\u001b[32m✔\u001b[39m \u001b[34mtidyr  \u001b[39m 1.1.3     \u001b[32m✔\u001b[39m \u001b[34mstringr\u001b[39m 1.4.0\n",
            "\u001b[32m✔\u001b[39m \u001b[34mreadr  \u001b[39m 1.4.0     \u001b[32m✔\u001b[39m \u001b[34mforcats\u001b[39m 0.5.1\n",
            "\n",
            "── \u001b[1mConflicts\u001b[22m ────────────────────────────────────────── tidyverse_conflicts() ──\n",
            "\u001b[31m✖\u001b[39m \u001b[34mdplyr\u001b[39m::\u001b[32mfilter()\u001b[39m masks \u001b[34mstats\u001b[39m::filter()\n",
            "\u001b[31m✖\u001b[39m \u001b[34mdplyr\u001b[39m::\u001b[32mlag()\u001b[39m    masks \u001b[34mstats\u001b[39m::lag()\n",
            "\n"
          ],
          "name": "stderr"
        }
      ]
    },
    {
      "cell_type": "code",
      "metadata": {
        "id": "lXL-OMFX8Dbz",
        "colab": {
          "base_uri": "https://localhost:8080/"
        },
        "outputId": "aac210ca-775c-4134-fd4e-f62dc252fe76"
      },
      "source": [
        "df <- read_csv('https://github.com/gefero/idaes_viz/blob/main/data/proc/base_covid_sample.csv?raw=true')"
      ],
      "execution_count": null,
      "outputs": [
        {
          "output_type": "stream",
          "text": [
            "\n",
            "\u001b[36m──\u001b[39m \u001b[1m\u001b[1mColumn specification\u001b[1m\u001b[22m \u001b[36m────────────────────────────────────────────────────────\u001b[39m\n",
            "cols(\n",
            "  .default = col_character(),\n",
            "  id_evento_caso = \u001b[32mcol_double()\u001b[39m,\n",
            "  edad = \u001b[32mcol_double()\u001b[39m,\n",
            "  fecha_inicio_sintomas = \u001b[34mcol_date(format = \"\")\u001b[39m,\n",
            "  fecha_apertura = \u001b[34mcol_date(format = \"\")\u001b[39m,\n",
            "  sepi_apertura = \u001b[32mcol_double()\u001b[39m,\n",
            "  fecha_internacion = \u001b[34mcol_date(format = \"\")\u001b[39m,\n",
            "  fecha_cui_intensivo = \u001b[33mcol_logical()\u001b[39m,\n",
            "  fecha_fallecimiento = \u001b[34mcol_date(format = \"\")\u001b[39m,\n",
            "  fecha_diagnostico = \u001b[34mcol_date(format = \"\")\u001b[39m,\n",
            "  residencia_departamento_id = \u001b[32mcol_double()\u001b[39m,\n",
            "  ultima_actualizacion = \u001b[34mcol_date(format = \"\")\u001b[39m\n",
            ")\n",
            "\u001b[36mℹ\u001b[39m Use \u001b[30m\u001b[47m\u001b[30m\u001b[47m`spec()`\u001b[47m\u001b[30m\u001b[49m\u001b[39m for the full column specifications.\n",
            "\n",
            "\n"
          ],
          "name": "stderr"
        }
      ]
    },
    {
      "cell_type": "markdown",
      "metadata": {
        "id": "95Py0wbQS85t"
      },
      "source": [
        "Hagamos una mirada general del dataset"
      ]
    },
    {
      "cell_type": "code",
      "metadata": {
        "id": "Tsa_ppj68SM6"
      },
      "source": [
        "glimpse(df)"
      ],
      "execution_count": null,
      "outputs": []
    },
    {
      "cell_type": "markdown",
      "metadata": {
        "id": "hQzMXVx1CW1Q"
      },
      "source": [
        "## Actividades\n",
        "\n",
        "### 1. ¿Cuál es la unidad de análisis del dataset?\n",
        "\n",
        "### 2. ¿Qué variables tiene?\n",
        "\n",
        "### 3. ¿Cuántos casos tiene?\n",
        "\n",
        "### 4. ¿Cuál es la media de edad de los fallecidos y no fallecidos por COVID-19? (Realizar un gráfico que responda la pregunta?"
      ]
    },
    {
      "cell_type": "code",
      "metadata": {
        "id": "ONFkMi5SCiMG"
      },
      "source": [
        "###"
      ],
      "execution_count": null,
      "outputs": []
    },
    {
      "cell_type": "markdown",
      "metadata": {
        "id": "WCAkPKj5IPlv"
      },
      "source": [
        "### 5. ¿Y la composición por sexo de los fallecidos y no fallecidos?"
      ]
    },
    {
      "cell_type": "code",
      "metadata": {
        "id": "PT6Wcs3VIUzj"
      },
      "source": [
        "###"
      ],
      "execution_count": null,
      "outputs": []
    },
    {
      "cell_type": "markdown",
      "metadata": {
        "id": "fznpbbkbFvtk"
      },
      "source": [
        "### 6. ¿Cómo es la distribución de edad de fallecidos y no fallecidos?"
      ]
    },
    {
      "cell_type": "code",
      "metadata": {
        "id": "hGeb6sa8F2r2"
      },
      "source": [
        "###"
      ],
      "execution_count": null,
      "outputs": []
    },
    {
      "cell_type": "markdown",
      "metadata": {
        "id": "_9l7AFjWGg9P"
      },
      "source": [
        "### 6. ¿Cómo es la estructura de edades y sexo de fallecidos y no fallecidos?"
      ]
    },
    {
      "cell_type": "code",
      "metadata": {
        "id": "mV2zepi5GiNy"
      },
      "source": [
        "###"
      ],
      "execution_count": null,
      "outputs": []
    },
    {
      "cell_type": "markdown",
      "metadata": {
        "id": "sRoXmPjsQM50"
      },
      "source": [
        "### 8. ¿Cómo evoluciona la cantidad de fallecidos hombres y mujeres en el tiempo?"
      ]
    },
    {
      "cell_type": "code",
      "metadata": {
        "id": "H-Wvsct3QUKX"
      },
      "source": [
        "###"
      ],
      "execution_count": null,
      "outputs": []
    },
    {
      "cell_type": "markdown",
      "metadata": {
        "id": "4sqC6bLdST4E"
      },
      "source": [
        "### 9. ¿Y por sexo?"
      ]
    },
    {
      "cell_type": "code",
      "metadata": {
        "id": "nWeCyYF1QUVx"
      },
      "source": [
        "###"
      ],
      "execution_count": null,
      "outputs": []
    },
    {
      "cell_type": "markdown",
      "metadata": {
        "id": "eWtsYEfvSXYA"
      },
      "source": [
        "### 10. ¿Pueden verse diferencias en la edad de los fallecidos a lo largo del tiempo?"
      ]
    },
    {
      "cell_type": "code",
      "metadata": {
        "id": "cQ4ZfJXkScn1"
      },
      "source": [
        "###"
      ],
      "execution_count": null,
      "outputs": []
    }
  ]
}