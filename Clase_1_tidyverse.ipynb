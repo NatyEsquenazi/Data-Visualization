{
  "nbformat": 4,
  "nbformat_minor": 0,
  "metadata": {
    "colab": {
      "name": "Clase_1_tidyverse.ipynb",
      "provenance": [],
      "collapsed_sections": [],
      "include_colab_link": true
    },
    "kernelspec": {
      "name": "ir",
      "display_name": "R"
    },
    "language_info": {
      "name": "R"
    }
  },
  "cells": [
    {
      "cell_type": "markdown",
      "metadata": {
        "id": "view-in-github",
        "colab_type": "text"
      },
      "source": [
        "<a href=\"https://colab.research.google.com/github/NatyEsquenazi/Data-Visualization/blob/main/Clase_1_tidyverse.ipynb\" target=\"_parent\"><img src=\"https://colab.research.google.com/assets/colab-badge.svg\" alt=\"Open In Colab\"/></a>"
      ]
    },
    {
      "cell_type": "code",
      "metadata": {
        "id": "dnDto5JIiSNt",
        "colab": {
          "base_uri": "https://localhost:8080/"
        },
        "outputId": "139d0a26-46e4-456c-b4b8-888a6691a45b"
      },
      "source": [
        "install.packages('gapminder')\n",
        "library(tidyverse)"
      ],
      "execution_count": null,
      "outputs": [
        {
          "output_type": "stream",
          "text": [
            "Installing package into ‘/usr/local/lib/R/site-library’\n",
            "(as ‘lib’ is unspecified)\n",
            "\n"
          ],
          "name": "stderr"
        }
      ]
    },
    {
      "cell_type": "markdown",
      "metadata": {
        "id": "iatOcVNqlDbU"
      },
      "source": [
        "# Comenzando con R \n"
      ]
    },
    {
      "cell_type": "markdown",
      "metadata": {
        "id": "07zwLYq9mDJv"
      },
      "source": [
        "\n",
        "## Introducción simple al `tidyverse`\n",
        "La idea de esta notebook es poder introducir algunos conceptos básicos del llamado tidyverse en R. \n",
        "Vamos a tratar de hacernos amigos de algunos conceptos y \"verbos\" que nos van a hacer  la vida más fácil en la manipulación de datos.\n",
        "\n",
        "## Objetivos\n",
        "- Brindar nociones sobre la lógica general del tidyverse para el preprocesamiento de datos\n",
        "- Introducir algunas funciones básicas para el filtrado, trasformación y merge de datos\n",
        "\n",
        "## Explorando algunos datos\n",
        "Vamos a trabajar con un set de datos precargado en R que se llama gapminder. Está basado en la información que puede recolectarse de [este sitio](https://www.gapminder.org/).\n",
        "\n",
        "La fundación Gapminder es una organización sin fines de lucro con sede en Suecia que promueve el desarrollo global mediante el uso de estadísticas que pueden ayudar a reducir mitos comunes e historias sensasionalistas sobre la salud y la economía mundial. Una selección importante de datos ya está cargada en la librería dslabs en el data frame gapminder.\n",
        "\n",
        "Al cargar la librería se carga automáticamente el dataset y con `head()` podemos ver las primeras filas del dataset."
      ]
    },
    {
      "cell_type": "code",
      "metadata": {
        "colab": {
          "base_uri": "https://localhost:8080/",
          "height": 271
        },
        "id": "sdLsvVSmmHyo",
        "outputId": "110b02c2-87ed-44f8-85f0-3df787df698c"
      },
      "source": [
        "library(gapminder)\n",
        "head(gapminder)"
      ],
      "execution_count": null,
      "outputs": [
        {
          "output_type": "display_data",
          "data": {
            "text/plain": [
              "  country     continent year lifeExp pop      gdpPercap\n",
              "1 Afghanistan Asia      1952 28.801   8425333 779.4453 \n",
              "2 Afghanistan Asia      1957 30.332   9240934 820.8530 \n",
              "3 Afghanistan Asia      1962 31.997  10267083 853.1007 \n",
              "4 Afghanistan Asia      1967 34.020  11537966 836.1971 \n",
              "5 Afghanistan Asia      1972 36.088  13079460 739.9811 \n",
              "6 Afghanistan Asia      1977 38.438  14880372 786.1134 "
            ],
            "text/latex": "A tibble: 6 × 6\n\\begin{tabular}{llllll}\n country & continent & year & lifeExp & pop & gdpPercap\\\\\n <fct> & <fct> & <int> & <dbl> & <int> & <dbl>\\\\\n\\hline\n\t Afghanistan & Asia & 1952 & 28.801 &  8425333 & 779.4453\\\\\n\t Afghanistan & Asia & 1957 & 30.332 &  9240934 & 820.8530\\\\\n\t Afghanistan & Asia & 1962 & 31.997 & 10267083 & 853.1007\\\\\n\t Afghanistan & Asia & 1967 & 34.020 & 11537966 & 836.1971\\\\\n\t Afghanistan & Asia & 1972 & 36.088 & 13079460 & 739.9811\\\\\n\t Afghanistan & Asia & 1977 & 38.438 & 14880372 & 786.1134\\\\\n\\end{tabular}\n",
            "text/markdown": "\nA tibble: 6 × 6\n\n| country &lt;fct&gt; | continent &lt;fct&gt; | year &lt;int&gt; | lifeExp &lt;dbl&gt; | pop &lt;int&gt; | gdpPercap &lt;dbl&gt; |\n|---|---|---|---|---|---|\n| Afghanistan | Asia | 1952 | 28.801 |  8425333 | 779.4453 |\n| Afghanistan | Asia | 1957 | 30.332 |  9240934 | 820.8530 |\n| Afghanistan | Asia | 1962 | 31.997 | 10267083 | 853.1007 |\n| Afghanistan | Asia | 1967 | 34.020 | 11537966 | 836.1971 |\n| Afghanistan | Asia | 1972 | 36.088 | 13079460 | 739.9811 |\n| Afghanistan | Asia | 1977 | 38.438 | 14880372 | 786.1134 |\n\n",
            "text/html": [
              "<table class=\"dataframe\">\n",
              "<caption>A tibble: 6 × 6</caption>\n",
              "<thead>\n",
              "\t<tr><th scope=col>country</th><th scope=col>continent</th><th scope=col>year</th><th scope=col>lifeExp</th><th scope=col>pop</th><th scope=col>gdpPercap</th></tr>\n",
              "\t<tr><th scope=col>&lt;fct&gt;</th><th scope=col>&lt;fct&gt;</th><th scope=col>&lt;int&gt;</th><th scope=col>&lt;dbl&gt;</th><th scope=col>&lt;int&gt;</th><th scope=col>&lt;dbl&gt;</th></tr>\n",
              "</thead>\n",
              "<tbody>\n",
              "\t<tr><td>Afghanistan</td><td>Asia</td><td>1952</td><td>28.801</td><td> 8425333</td><td>779.4453</td></tr>\n",
              "\t<tr><td>Afghanistan</td><td>Asia</td><td>1957</td><td>30.332</td><td> 9240934</td><td>820.8530</td></tr>\n",
              "\t<tr><td>Afghanistan</td><td>Asia</td><td>1962</td><td>31.997</td><td>10267083</td><td>853.1007</td></tr>\n",
              "\t<tr><td>Afghanistan</td><td>Asia</td><td>1967</td><td>34.020</td><td>11537966</td><td>836.1971</td></tr>\n",
              "\t<tr><td>Afghanistan</td><td>Asia</td><td>1972</td><td>36.088</td><td>13079460</td><td>739.9811</td></tr>\n",
              "\t<tr><td>Afghanistan</td><td>Asia</td><td>1977</td><td>38.438</td><td>14880372</td><td>786.1134</td></tr>\n",
              "</tbody>\n",
              "</table>\n"
            ]
          },
          "metadata": {
            "tags": []
          }
        }
      ]
    },
    {
      "cell_type": "code",
      "metadata": {
        "colab": {
          "base_uri": "https://localhost:8080/",
          "height": 271
        },
        "id": "2ylbMgdzuU20",
        "outputId": "5b1b3c4a-8492-496f-da55-5c8e36335b99"
      },
      "source": [
        "tail(gapminder)"
      ],
      "execution_count": null,
      "outputs": [
        {
          "output_type": "display_data",
          "data": {
            "text/plain": [
              "  country  continent year lifeExp pop      gdpPercap\n",
              "1 Zimbabwe Africa    1982 60.363   7636524 788.8550 \n",
              "2 Zimbabwe Africa    1987 62.351   9216418 706.1573 \n",
              "3 Zimbabwe Africa    1992 60.377  10704340 693.4208 \n",
              "4 Zimbabwe Africa    1997 46.809  11404948 792.4500 \n",
              "5 Zimbabwe Africa    2002 39.989  11926563 672.0386 \n",
              "6 Zimbabwe Africa    2007 43.487  12311143 469.7093 "
            ],
            "text/latex": "A tibble: 6 × 6\n\\begin{tabular}{llllll}\n country & continent & year & lifeExp & pop & gdpPercap\\\\\n <fct> & <fct> & <int> & <dbl> & <int> & <dbl>\\\\\n\\hline\n\t Zimbabwe & Africa & 1982 & 60.363 &  7636524 & 788.8550\\\\\n\t Zimbabwe & Africa & 1987 & 62.351 &  9216418 & 706.1573\\\\\n\t Zimbabwe & Africa & 1992 & 60.377 & 10704340 & 693.4208\\\\\n\t Zimbabwe & Africa & 1997 & 46.809 & 11404948 & 792.4500\\\\\n\t Zimbabwe & Africa & 2002 & 39.989 & 11926563 & 672.0386\\\\\n\t Zimbabwe & Africa & 2007 & 43.487 & 12311143 & 469.7093\\\\\n\\end{tabular}\n",
            "text/markdown": "\nA tibble: 6 × 6\n\n| country &lt;fct&gt; | continent &lt;fct&gt; | year &lt;int&gt; | lifeExp &lt;dbl&gt; | pop &lt;int&gt; | gdpPercap &lt;dbl&gt; |\n|---|---|---|---|---|---|\n| Zimbabwe | Africa | 1982 | 60.363 |  7636524 | 788.8550 |\n| Zimbabwe | Africa | 1987 | 62.351 |  9216418 | 706.1573 |\n| Zimbabwe | Africa | 1992 | 60.377 | 10704340 | 693.4208 |\n| Zimbabwe | Africa | 1997 | 46.809 | 11404948 | 792.4500 |\n| Zimbabwe | Africa | 2002 | 39.989 | 11926563 | 672.0386 |\n| Zimbabwe | Africa | 2007 | 43.487 | 12311143 | 469.7093 |\n\n",
            "text/html": [
              "<table class=\"dataframe\">\n",
              "<caption>A tibble: 6 × 6</caption>\n",
              "<thead>\n",
              "\t<tr><th scope=col>country</th><th scope=col>continent</th><th scope=col>year</th><th scope=col>lifeExp</th><th scope=col>pop</th><th scope=col>gdpPercap</th></tr>\n",
              "\t<tr><th scope=col>&lt;fct&gt;</th><th scope=col>&lt;fct&gt;</th><th scope=col>&lt;int&gt;</th><th scope=col>&lt;dbl&gt;</th><th scope=col>&lt;int&gt;</th><th scope=col>&lt;dbl&gt;</th></tr>\n",
              "</thead>\n",
              "<tbody>\n",
              "\t<tr><td>Zimbabwe</td><td>Africa</td><td>1982</td><td>60.363</td><td> 7636524</td><td>788.8550</td></tr>\n",
              "\t<tr><td>Zimbabwe</td><td>Africa</td><td>1987</td><td>62.351</td><td> 9216418</td><td>706.1573</td></tr>\n",
              "\t<tr><td>Zimbabwe</td><td>Africa</td><td>1992</td><td>60.377</td><td>10704340</td><td>693.4208</td></tr>\n",
              "\t<tr><td>Zimbabwe</td><td>Africa</td><td>1997</td><td>46.809</td><td>11404948</td><td>792.4500</td></tr>\n",
              "\t<tr><td>Zimbabwe</td><td>Africa</td><td>2002</td><td>39.989</td><td>11926563</td><td>672.0386</td></tr>\n",
              "\t<tr><td>Zimbabwe</td><td>Africa</td><td>2007</td><td>43.487</td><td>12311143</td><td>469.7093</td></tr>\n",
              "</tbody>\n",
              "</table>\n"
            ]
          },
          "metadata": {
            "tags": []
          }
        }
      ]
    },
    {
      "cell_type": "markdown",
      "metadata": {
        "id": "2GTaZXIZnTSx"
      },
      "source": [
        "Tenemos ahora un objeto (que es una tabla, algo parecido a una hoja de Excel o a una base de SPSS o de Stata) que se llama `gapminder`.\n"
      ]
    },
    {
      "cell_type": "markdown",
      "metadata": {
        "id": "faSwh3bsn0_V"
      },
      "source": [
        "\n",
        "---\n",
        "1. ¿Qué datos parece tener esta tabla?\n",
        "2. ¿Cuáles son las variables? ¿Cuáles las unidades de análisis?\n",
        "---\n",
        "\n",
        "Podemos ver más en detalle las características del dataset de la siguente forma:"
      ]
    },
    {
      "cell_type": "code",
      "metadata": {
        "colab": {
          "base_uri": "https://localhost:8080/"
        },
        "id": "ZNiEk4LfnSdk",
        "outputId": "cc804ff0-b7bf-43f0-e7f5-e6b2096db013"
      },
      "source": [
        "str(gapminder)"
      ],
      "execution_count": null,
      "outputs": [
        {
          "output_type": "stream",
          "text": [
            "tibble[,6] [1,704 × 6] (S3: tbl_df/tbl/data.frame)\n",
            " $ country  : Factor w/ 142 levels \"Afghanistan\",..: 1 1 1 1 1 1 1 1 1 1 ...\n",
            " $ continent: Factor w/ 5 levels \"Africa\",\"Americas\",..: 3 3 3 3 3 3 3 3 3 3 ...\n",
            " $ year     : int [1:1704] 1952 1957 1962 1967 1972 1977 1982 1987 1992 1997 ...\n",
            " $ lifeExp  : num [1:1704] 28.8 30.3 32 34 36.1 ...\n",
            " $ pop      : int [1:1704] 8425333 9240934 10267083 11537966 13079460 14880372 12881816 13867957 16317921 22227415 ...\n",
            " $ gdpPercap: num [1:1704] 779 821 853 836 740 ...\n"
          ],
          "name": "stdout"
        }
      ]
    },
    {
      "cell_type": "markdown",
      "metadata": {
        "id": "v7Yk_wlmoTBh"
      },
      "source": [
        "Aquí, aplicamos la función `str()` y le pasamos como argumento el objeto `gapminder`. Nos devolvió la estructura de ese objeto.\n",
        "\n",
        "Una forma equivalente de llegar a este resultado seria"
      ]
    },
    {
      "cell_type": "code",
      "metadata": {
        "colab": {
          "base_uri": "https://localhost:8080/"
        },
        "id": "_j14-UK9nK4C",
        "outputId": "ebca1ca9-b1da-49c0-bce6-1677cb7a41ff"
      },
      "source": [
        "gapminder %>% str()"
      ],
      "execution_count": null,
      "outputs": [
        {
          "output_type": "stream",
          "text": [
            "tibble[,6] [1,704 × 6] (S3: tbl_df/tbl/data.frame)\n",
            " $ country  : Factor w/ 142 levels \"Afghanistan\",..: 1 1 1 1 1 1 1 1 1 1 ...\n",
            " $ continent: Factor w/ 5 levels \"Africa\",\"Americas\",..: 3 3 3 3 3 3 3 3 3 3 ...\n",
            " $ year     : int [1:1704] 1952 1957 1962 1967 1972 1977 1982 1987 1992 1997 ...\n",
            " $ lifeExp  : num [1:1704] 28.8 30.3 32 34 36.1 ...\n",
            " $ pop      : int [1:1704] 8425333 9240934 10267083 11537966 13079460 14880372 12881816 13867957 16317921 22227415 ...\n",
            " $ gdpPercap: num [1:1704] 779 821 853 836 740 ...\n"
          ],
          "name": "stdout"
        }
      ]
    },
    {
      "cell_type": "markdown",
      "metadata": {
        "id": "3QjwsgdioY2g"
      },
      "source": [
        "Ya lo vamos a ver en detalle, pero vean ese operador `%>%` que se llama \"pipe\". Lo que hace es tomar lo que está a la izquierda (en este caso `gapminder`) y lo pasa como input de lo que está a la derecha (en este caso, `str()`)."
      ]
    },
    {
      "cell_type": "markdown",
      "metadata": {
        "id": "6Cb6iDo8pHf1"
      },
      "source": [
        "---\n",
        "Ahora, traten de obtener las primeras filas del dataset (con la función `head()` usando el `%>%`."
      ]
    },
    {
      "cell_type": "code",
      "metadata": {
        "id": "G5HzsMm8oXgs"
      },
      "source": [
        "### Completar acá"
      ],
      "execution_count": null,
      "outputs": []
    },
    {
      "cell_type": "markdown",
      "metadata": {
        "id": "sc6173hhpJYB"
      },
      "source": [
        "---\n"
      ]
    },
    {
      "cell_type": "markdown",
      "metadata": {
        "id": "G4Stz6HdpzWw"
      },
      "source": [
        "## Tres de los cinco verbos del `tidyverse`\n",
        "\n",
        "Ahora bien, en general, vamos a querer operar sobre cualquier dataset, tabla, o base que caiga en nuestras manos. Vamos a querer filtrar filas, seleccionar columnas, ordenar filas, crear o cambiar variables y generar agregados de esos datos. \n",
        "\n",
        "Para hacer todo esto, y mucho más, vamos a ir aprendiendo algunas funciones que representan cinco verbos básicos para la transformación de datos:\n",
        "\n",
        "* `select()`: seleccionar -elegir- columnas por su nombre\n",
        "* `filter()`: filtrar, es decir quedarse sólo con las filas que cumplan cierta condición\n",
        "* `summarise()`: producir sumarios -un valor extraído de muchos, por ejemplo el promedio- con el contenido de las columnas\n",
        "* `arrange()`: ordenar las filas de acuerdo a su contenido o algún otro índice\n",
        "* `mutate()`: mutar -cambiar- un dataframe, modificando el contenido de sus columnas o creando columnas (es decir, variables) nuevas\n",
        "\n",
        "Estas funciones tienen una sintaxis, una forma de escribirse, uniforme. El primer argumento que toman siempre es un dataframe; los siguientes indican qué hacer con los datos. El resultado siempre es un nuevo dataframe.\n",
        "\n",
        "Las funciones son parte de dplyr, uno de los componentes de la familia de paquetes Tidyverse. Ya tenemos disponible todo lo necesario, activado cuando invocamos library(tidiverse) al comienzo.\n",
        "\n",
        "\n",
        "\n",
        "### Filtrando filas: `filter()`\n",
        "\n",
        "Vamos a generar una tabla nueva con todos los registros que correspondan a Argentina."
      ]
    },
    {
      "cell_type": "code",
      "metadata": {
        "id": "iv9y9KbApE36"
      },
      "source": [
        "argentina <- filter(gapminder, country=='Argentina')"
      ],
      "execution_count": null,
      "outputs": []
    },
    {
      "cell_type": "markdown",
      "metadata": {
        "id": "1fpASfcKqt1S"
      },
      "source": [
        "¿Qué pasó acá? Vamos de derecha a izquierda.\n",
        "\n",
        "- `filter(gapminder, country=='Argentina')`: Usamos la función `filter` y le pasamos como argumentos el dataset original (`gapminder`) y la condición que tiene que cumplir las filas con las que nos queremos quedar\n",
        "- `argentina <-`: este paso es clave. Lo que hicimos aquí fue asignar los resultados de la función filter a un objeto tabla nuevo al que llamamos `argentina`\n",
        "\n",
        "Veamos las primeras filas:"
      ]
    },
    {
      "cell_type": "code",
      "metadata": {
        "colab": {
          "base_uri": "https://localhost:8080/",
          "height": 283
        },
        "id": "WBTLmI9QpukJ",
        "outputId": "5b7d5305-0590-4349-e499-9182301b564c"
      },
      "source": [
        "head(argentina)"
      ],
      "execution_count": null,
      "outputs": [
        {
          "output_type": "display_data",
          "data": {
            "text/plain": [
              "  country   continent year lifeExp pop      gdpPercap\n",
              "1 Argentina Americas  1952 62.485  17876956  5911.315\n",
              "2 Argentina Americas  1957 64.399  19610538  6856.856\n",
              "3 Argentina Americas  1962 65.142  21283783  7133.166\n",
              "4 Argentina Americas  1967 65.634  22934225  8052.953\n",
              "5 Argentina Americas  1972 67.065  24779799  9443.039\n",
              "6 Argentina Americas  1977 68.481  26983828 10079.027"
            ],
            "text/latex": "A tibble: 6 × 6\n\\begin{tabular}{llllll}\n country & continent & year & lifeExp & pop & gdpPercap\\\\\n <fct> & <fct> & <int> & <dbl> & <int> & <dbl>\\\\\n\\hline\n\t Argentina & Americas & 1952 & 62.485 & 17876956 &  5911.315\\\\\n\t Argentina & Americas & 1957 & 64.399 & 19610538 &  6856.856\\\\\n\t Argentina & Americas & 1962 & 65.142 & 21283783 &  7133.166\\\\\n\t Argentina & Americas & 1967 & 65.634 & 22934225 &  8052.953\\\\\n\t Argentina & Americas & 1972 & 67.065 & 24779799 &  9443.039\\\\\n\t Argentina & Americas & 1977 & 68.481 & 26983828 & 10079.027\\\\\n\\end{tabular}\n",
            "text/markdown": "\nA tibble: 6 × 6\n\n| country &lt;fct&gt; | continent &lt;fct&gt; | year &lt;int&gt; | lifeExp &lt;dbl&gt; | pop &lt;int&gt; | gdpPercap &lt;dbl&gt; |\n|---|---|---|---|---|---|\n| Argentina | Americas | 1952 | 62.485 | 17876956 |  5911.315 |\n| Argentina | Americas | 1957 | 64.399 | 19610538 |  6856.856 |\n| Argentina | Americas | 1962 | 65.142 | 21283783 |  7133.166 |\n| Argentina | Americas | 1967 | 65.634 | 22934225 |  8052.953 |\n| Argentina | Americas | 1972 | 67.065 | 24779799 |  9443.039 |\n| Argentina | Americas | 1977 | 68.481 | 26983828 | 10079.027 |\n\n",
            "text/html": [
              "<table class=\"dataframe\">\n",
              "<caption>A tibble: 6 × 6</caption>\n",
              "<thead>\n",
              "\t<tr><th scope=col>country</th><th scope=col>continent</th><th scope=col>year</th><th scope=col>lifeExp</th><th scope=col>pop</th><th scope=col>gdpPercap</th></tr>\n",
              "\t<tr><th scope=col>&lt;fct&gt;</th><th scope=col>&lt;fct&gt;</th><th scope=col>&lt;int&gt;</th><th scope=col>&lt;dbl&gt;</th><th scope=col>&lt;int&gt;</th><th scope=col>&lt;dbl&gt;</th></tr>\n",
              "</thead>\n",
              "<tbody>\n",
              "\t<tr><td>Argentina</td><td>Americas</td><td>1952</td><td>62.485</td><td>17876956</td><td> 5911.315</td></tr>\n",
              "\t<tr><td>Argentina</td><td>Americas</td><td>1957</td><td>64.399</td><td>19610538</td><td> 6856.856</td></tr>\n",
              "\t<tr><td>Argentina</td><td>Americas</td><td>1962</td><td>65.142</td><td>21283783</td><td> 7133.166</td></tr>\n",
              "\t<tr><td>Argentina</td><td>Americas</td><td>1967</td><td>65.634</td><td>22934225</td><td> 8052.953</td></tr>\n",
              "\t<tr><td>Argentina</td><td>Americas</td><td>1972</td><td>67.065</td><td>24779799</td><td> 9443.039</td></tr>\n",
              "\t<tr><td>Argentina</td><td>Americas</td><td>1977</td><td>68.481</td><td>26983828</td><td>10079.027</td></tr>\n",
              "</tbody>\n",
              "</table>\n"
            ]
          },
          "metadata": {
            "tags": []
          }
        }
      ]
    },
    {
      "cell_type": "markdown",
      "metadata": {
        "id": "-RUWiRwfrgLv"
      },
      "source": [
        "Si no realizábamos el paso `argentina <-` el resultado del filtrado no iba a quedar en ningún lado. Veamos otro ejemplo."
      ]
    },
    {
      "cell_type": "code",
      "metadata": {
        "colab": {
          "base_uri": "https://localhost:8080/",
          "height": 469
        },
        "id": "lEEmc8sBqjR4",
        "outputId": "1bd34bc7-2064-4230-d34b-c2e1787d1a23"
      },
      "source": [
        "filter(gapminder, country=='Peru')"
      ],
      "execution_count": null,
      "outputs": [
        {
          "output_type": "display_data",
          "data": {
            "text/plain": [
              "   country continent year lifeExp pop      gdpPercap\n",
              "1  Peru    Americas  1952 43.902   8025700 3758.523 \n",
              "2  Peru    Americas  1957 46.263   9146100 4245.257 \n",
              "3  Peru    Americas  1962 49.096  10516500 4957.038 \n",
              "4  Peru    Americas  1967 51.445  12132200 5788.093 \n",
              "5  Peru    Americas  1972 55.448  13954700 5937.827 \n",
              "6  Peru    Americas  1977 58.447  15990099 6281.291 \n",
              "7  Peru    Americas  1982 61.406  18125129 6434.502 \n",
              "8  Peru    Americas  1987 64.134  20195924 6360.943 \n",
              "9  Peru    Americas  1992 66.458  22430449 4446.381 \n",
              "10 Peru    Americas  1997 68.386  24748122 5838.348 \n",
              "11 Peru    Americas  2002 69.906  26769436 5909.020 \n",
              "12 Peru    Americas  2007 71.421  28674757 7408.906 "
            ],
            "text/latex": "A tibble: 12 × 6\n\\begin{tabular}{llllll}\n country & continent & year & lifeExp & pop & gdpPercap\\\\\n <fct> & <fct> & <int> & <dbl> & <int> & <dbl>\\\\\n\\hline\n\t Peru & Americas & 1952 & 43.902 &  8025700 & 3758.523\\\\\n\t Peru & Americas & 1957 & 46.263 &  9146100 & 4245.257\\\\\n\t Peru & Americas & 1962 & 49.096 & 10516500 & 4957.038\\\\\n\t Peru & Americas & 1967 & 51.445 & 12132200 & 5788.093\\\\\n\t Peru & Americas & 1972 & 55.448 & 13954700 & 5937.827\\\\\n\t Peru & Americas & 1977 & 58.447 & 15990099 & 6281.291\\\\\n\t Peru & Americas & 1982 & 61.406 & 18125129 & 6434.502\\\\\n\t Peru & Americas & 1987 & 64.134 & 20195924 & 6360.943\\\\\n\t Peru & Americas & 1992 & 66.458 & 22430449 & 4446.381\\\\\n\t Peru & Americas & 1997 & 68.386 & 24748122 & 5838.348\\\\\n\t Peru & Americas & 2002 & 69.906 & 26769436 & 5909.020\\\\\n\t Peru & Americas & 2007 & 71.421 & 28674757 & 7408.906\\\\\n\\end{tabular}\n",
            "text/markdown": "\nA tibble: 12 × 6\n\n| country &lt;fct&gt; | continent &lt;fct&gt; | year &lt;int&gt; | lifeExp &lt;dbl&gt; | pop &lt;int&gt; | gdpPercap &lt;dbl&gt; |\n|---|---|---|---|---|---|\n| Peru | Americas | 1952 | 43.902 |  8025700 | 3758.523 |\n| Peru | Americas | 1957 | 46.263 |  9146100 | 4245.257 |\n| Peru | Americas | 1962 | 49.096 | 10516500 | 4957.038 |\n| Peru | Americas | 1967 | 51.445 | 12132200 | 5788.093 |\n| Peru | Americas | 1972 | 55.448 | 13954700 | 5937.827 |\n| Peru | Americas | 1977 | 58.447 | 15990099 | 6281.291 |\n| Peru | Americas | 1982 | 61.406 | 18125129 | 6434.502 |\n| Peru | Americas | 1987 | 64.134 | 20195924 | 6360.943 |\n| Peru | Americas | 1992 | 66.458 | 22430449 | 4446.381 |\n| Peru | Americas | 1997 | 68.386 | 24748122 | 5838.348 |\n| Peru | Americas | 2002 | 69.906 | 26769436 | 5909.020 |\n| Peru | Americas | 2007 | 71.421 | 28674757 | 7408.906 |\n\n",
            "text/html": [
              "<table class=\"dataframe\">\n",
              "<caption>A tibble: 12 × 6</caption>\n",
              "<thead>\n",
              "\t<tr><th scope=col>country</th><th scope=col>continent</th><th scope=col>year</th><th scope=col>lifeExp</th><th scope=col>pop</th><th scope=col>gdpPercap</th></tr>\n",
              "\t<tr><th scope=col>&lt;fct&gt;</th><th scope=col>&lt;fct&gt;</th><th scope=col>&lt;int&gt;</th><th scope=col>&lt;dbl&gt;</th><th scope=col>&lt;int&gt;</th><th scope=col>&lt;dbl&gt;</th></tr>\n",
              "</thead>\n",
              "<tbody>\n",
              "\t<tr><td>Peru</td><td>Americas</td><td>1952</td><td>43.902</td><td> 8025700</td><td>3758.523</td></tr>\n",
              "\t<tr><td>Peru</td><td>Americas</td><td>1957</td><td>46.263</td><td> 9146100</td><td>4245.257</td></tr>\n",
              "\t<tr><td>Peru</td><td>Americas</td><td>1962</td><td>49.096</td><td>10516500</td><td>4957.038</td></tr>\n",
              "\t<tr><td>Peru</td><td>Americas</td><td>1967</td><td>51.445</td><td>12132200</td><td>5788.093</td></tr>\n",
              "\t<tr><td>Peru</td><td>Americas</td><td>1972</td><td>55.448</td><td>13954700</td><td>5937.827</td></tr>\n",
              "\t<tr><td>Peru</td><td>Americas</td><td>1977</td><td>58.447</td><td>15990099</td><td>6281.291</td></tr>\n",
              "\t<tr><td>Peru</td><td>Americas</td><td>1982</td><td>61.406</td><td>18125129</td><td>6434.502</td></tr>\n",
              "\t<tr><td>Peru</td><td>Americas</td><td>1987</td><td>64.134</td><td>20195924</td><td>6360.943</td></tr>\n",
              "\t<tr><td>Peru</td><td>Americas</td><td>1992</td><td>66.458</td><td>22430449</td><td>4446.381</td></tr>\n",
              "\t<tr><td>Peru</td><td>Americas</td><td>1997</td><td>68.386</td><td>24748122</td><td>5838.348</td></tr>\n",
              "\t<tr><td>Peru</td><td>Americas</td><td>2002</td><td>69.906</td><td>26769436</td><td>5909.020</td></tr>\n",
              "\t<tr><td>Peru</td><td>Americas</td><td>2007</td><td>71.421</td><td>28674757</td><td>7408.906</td></tr>\n",
              "</tbody>\n",
              "</table>\n"
            ]
          },
          "metadata": {
            "tags": []
          }
        }
      ]
    },
    {
      "cell_type": "markdown",
      "metadata": {
        "id": "uxCtTC1Dr4Cd"
      },
      "source": [
        "El filtro funcionó... ¿pero dónde quedaron los datos? En ningún lado porque no los asigné a ningún objeto."
      ]
    },
    {
      "cell_type": "markdown",
      "metadata": {
        "id": "Eyuu72E0sG3z"
      },
      "source": [
        "\n",
        "---\n",
        "Repitan el filtro pero asignándolo a un objeto que se llame `peru`:"
      ]
    },
    {
      "cell_type": "code",
      "metadata": {
        "id": "gpItgqzbrvSt"
      },
      "source": [
        "### Completar acá"
      ],
      "execution_count": null,
      "outputs": []
    },
    {
      "cell_type": "markdown",
      "metadata": {
        "id": "92YyMZ7isHcs"
      },
      "source": [
        "---\n",
        "\n",
        "Con filter podemos hacer todos los filtros que querramos incluso con condiciones más complicadas:"
      ]
    },
    {
      "cell_type": "code",
      "metadata": {
        "id": "xpMsaJekr2vb"
      },
      "source": [
        "test <- filter(gapminder, continent=='Americas' & lifeExp > 70 & year==2007)"
      ],
      "execution_count": null,
      "outputs": []
    },
    {
      "cell_type": "markdown",
      "metadata": {
        "id": "0FPY4XM5snrt"
      },
      "source": [
        "¿Qué debería devolver este código?\n",
        "\n",
        "---"
      ]
    },
    {
      "cell_type": "code",
      "metadata": {
        "id": "ikHDN9Z3srAt"
      },
      "source": [
        "### Completar acá"
      ],
      "execution_count": null,
      "outputs": []
    },
    {
      "cell_type": "markdown",
      "metadata": {
        "id": "CxuAi3vwEBWX"
      },
      "source": [
        "---"
      ]
    },
    {
      "cell_type": "markdown",
      "metadata": {
        "id": "BJszVzUUEIDg"
      },
      "source": [
        "### Seleccionando columnas: `select`\n",
        "\n",
        "Otra operación habitual es querer quedarse con algunas columnas. Para ello usamos `select`:"
      ]
    },
    {
      "cell_type": "code",
      "metadata": {
        "colab": {
          "base_uri": "https://localhost:8080/",
          "height": 283
        },
        "id": "80rGGL1KEFRG",
        "outputId": "795e0b71-9399-4e08-b666-31b075a59aec"
      },
      "source": [
        "gdp <- select(gapminder, gdpPercap)\n",
        "head(gdp)"
      ],
      "execution_count": null,
      "outputs": [
        {
          "output_type": "display_data",
          "data": {
            "text/plain": [
              "  gdpPercap\n",
              "1 779.4453 \n",
              "2 820.8530 \n",
              "3 853.1007 \n",
              "4 836.1971 \n",
              "5 739.9811 \n",
              "6 786.1134 "
            ],
            "text/latex": "A tibble: 6 × 1\n\\begin{tabular}{l}\n gdpPercap\\\\\n <dbl>\\\\\n\\hline\n\t 779.4453\\\\\n\t 820.8530\\\\\n\t 853.1007\\\\\n\t 836.1971\\\\\n\t 739.9811\\\\\n\t 786.1134\\\\\n\\end{tabular}\n",
            "text/markdown": "\nA tibble: 6 × 1\n\n| gdpPercap &lt;dbl&gt; |\n|---|\n| 779.4453 |\n| 820.8530 |\n| 853.1007 |\n| 836.1971 |\n| 739.9811 |\n| 786.1134 |\n\n",
            "text/html": [
              "<table class=\"dataframe\">\n",
              "<caption>A tibble: 6 × 1</caption>\n",
              "<thead>\n",
              "\t<tr><th scope=col>gdpPercap</th></tr>\n",
              "\t<tr><th scope=col>&lt;dbl&gt;</th></tr>\n",
              "</thead>\n",
              "<tbody>\n",
              "\t<tr><td>779.4453</td></tr>\n",
              "\t<tr><td>820.8530</td></tr>\n",
              "\t<tr><td>853.1007</td></tr>\n",
              "\t<tr><td>836.1971</td></tr>\n",
              "\t<tr><td>739.9811</td></tr>\n",
              "\t<tr><td>786.1134</td></tr>\n",
              "</tbody>\n",
              "</table>\n"
            ]
          },
          "metadata": {
            "tags": []
          }
        }
      ]
    },
    {
      "cell_type": "markdown",
      "metadata": {
        "id": "HmpU-TXlEdB-"
      },
      "source": [
        "También podemos seleccionar varias columnas.\n",
        "\n",
        "¿Cuál se les ocurre que puede ser la diferencia entre instrucciones? ¿Qué resultado devolverá cada una?"
      ]
    },
    {
      "cell_type": "code",
      "metadata": {
        "id": "jDvbO1u6EYwR"
      },
      "source": [
        "varias <- select(gapminder, country, lifeExp)"
      ],
      "execution_count": null,
      "outputs": []
    },
    {
      "cell_type": "code",
      "metadata": {
        "id": "2Wyy6U-MEwQZ"
      },
      "source": [
        "varias2 <- select(gapminder, country:lifeExp)"
      ],
      "execution_count": null,
      "outputs": []
    },
    {
      "cell_type": "markdown",
      "metadata": {
        "id": "N388TRA9E--6"
      },
      "source": [
        "También podemos hacer selecciones de columnas basadas en el texto de las columnas, por ejemplo, todas las columnas que empiezan o terminan con determinada frase o letra. Para ello usamos `starts_with`:"
      ]
    },
    {
      "cell_type": "code",
      "metadata": {
        "id": "XwNluUuYFL3s"
      },
      "source": [
        "varias3 <- select(gapminder, starts_with('c'))\n",
        "head(varias3)"
      ],
      "execution_count": null,
      "outputs": []
    },
    {
      "cell_type": "markdown",
      "metadata": {
        "id": "We2xiAYiFyb6"
      },
      "source": [
        "También podemos eliminar columnas anteponiendo el operador `-`:"
      ]
    },
    {
      "cell_type": "code",
      "metadata": {
        "colab": {
          "base_uri": "https://localhost:8080/",
          "height": 283
        },
        "id": "CyslvA7XF36V",
        "outputId": "8d1ddd84-2a60-4f2c-cb29-232c0167b12d"
      },
      "source": [
        "varias4 <- select(gapminder, -country)\n",
        "head(varias4)"
      ],
      "execution_count": null,
      "outputs": [
        {
          "output_type": "display_data",
          "data": {
            "text/plain": [
              "  continent year lifeExp pop      gdpPercap\n",
              "1 Asia      1952 28.801   8425333 779.4453 \n",
              "2 Asia      1957 30.332   9240934 820.8530 \n",
              "3 Asia      1962 31.997  10267083 853.1007 \n",
              "4 Asia      1967 34.020  11537966 836.1971 \n",
              "5 Asia      1972 36.088  13079460 739.9811 \n",
              "6 Asia      1977 38.438  14880372 786.1134 "
            ],
            "text/latex": "A tibble: 6 × 5\n\\begin{tabular}{lllll}\n continent & year & lifeExp & pop & gdpPercap\\\\\n <fct> & <int> & <dbl> & <int> & <dbl>\\\\\n\\hline\n\t Asia & 1952 & 28.801 &  8425333 & 779.4453\\\\\n\t Asia & 1957 & 30.332 &  9240934 & 820.8530\\\\\n\t Asia & 1962 & 31.997 & 10267083 & 853.1007\\\\\n\t Asia & 1967 & 34.020 & 11537966 & 836.1971\\\\\n\t Asia & 1972 & 36.088 & 13079460 & 739.9811\\\\\n\t Asia & 1977 & 38.438 & 14880372 & 786.1134\\\\\n\\end{tabular}\n",
            "text/markdown": "\nA tibble: 6 × 5\n\n| continent &lt;fct&gt; | year &lt;int&gt; | lifeExp &lt;dbl&gt; | pop &lt;int&gt; | gdpPercap &lt;dbl&gt; |\n|---|---|---|---|---|\n| Asia | 1952 | 28.801 |  8425333 | 779.4453 |\n| Asia | 1957 | 30.332 |  9240934 | 820.8530 |\n| Asia | 1962 | 31.997 | 10267083 | 853.1007 |\n| Asia | 1967 | 34.020 | 11537966 | 836.1971 |\n| Asia | 1972 | 36.088 | 13079460 | 739.9811 |\n| Asia | 1977 | 38.438 | 14880372 | 786.1134 |\n\n",
            "text/html": [
              "<table class=\"dataframe\">\n",
              "<caption>A tibble: 6 × 5</caption>\n",
              "<thead>\n",
              "\t<tr><th scope=col>continent</th><th scope=col>year</th><th scope=col>lifeExp</th><th scope=col>pop</th><th scope=col>gdpPercap</th></tr>\n",
              "\t<tr><th scope=col>&lt;fct&gt;</th><th scope=col>&lt;int&gt;</th><th scope=col>&lt;dbl&gt;</th><th scope=col>&lt;int&gt;</th><th scope=col>&lt;dbl&gt;</th></tr>\n",
              "</thead>\n",
              "<tbody>\n",
              "\t<tr><td>Asia</td><td>1952</td><td>28.801</td><td> 8425333</td><td>779.4453</td></tr>\n",
              "\t<tr><td>Asia</td><td>1957</td><td>30.332</td><td> 9240934</td><td>820.8530</td></tr>\n",
              "\t<tr><td>Asia</td><td>1962</td><td>31.997</td><td>10267083</td><td>853.1007</td></tr>\n",
              "\t<tr><td>Asia</td><td>1967</td><td>34.020</td><td>11537966</td><td>836.1971</td></tr>\n",
              "\t<tr><td>Asia</td><td>1972</td><td>36.088</td><td>13079460</td><td>739.9811</td></tr>\n",
              "\t<tr><td>Asia</td><td>1977</td><td>38.438</td><td>14880372</td><td>786.1134</td></tr>\n",
              "</tbody>\n",
              "</table>\n"
            ]
          },
          "metadata": {
            "tags": []
          }
        }
      ]
    },
    {
      "cell_type": "markdown",
      "metadata": {
        "id": "n9Mepqa-FUF8"
      },
      "source": [
        "Hay muchísimas otras opciones para hacer selecciones y filtros. \n",
        "Pueden consultar la documentación de cada una de las funciones:\n",
        "\n",
        "- [`filter()`](https://dplyr.tidyverse.org/reference/filter.html)\n",
        "- [`select()`](https://dplyr.tidyverse.org/reference/select.html)\n",
        "\n",
        "\n",
        "### Calculando métricas agregadas: `group_by()`, `summarise()` y `arrange()`\n",
        "Bien, vamos a complejizar un poco la cosa. Supongamos que ahora queremos trabajar con todo el dataset de gapminder y queremos calcular la esperanza de vida promedio de todo el mundo por continente durante el año 2007.\n",
        "\n",
        "Entran a la cancha varias funciones:"
      ]
    },
    {
      "cell_type": "code",
      "metadata": {
        "colab": {
          "base_uri": "https://localhost:8080/",
          "height": 252
        },
        "id": "EtzZ-LHzFRqS",
        "outputId": "36df40eb-ca14-4475-d715-74aac46b1bc8"
      },
      "source": [
        "gap2007 <- filter(gapminder, year==2007)\n",
        "groups <- group_by(gap2007, continent)\n",
        "aggs <- summarise(groups, media_exp = mean(lifeExp))\n",
        "aggs <- arrange(aggs, media_exp)\n",
        "aggs"
      ],
      "execution_count": null,
      "outputs": [
        {
          "output_type": "display_data",
          "data": {
            "text/plain": [
              "  continent media_exp\n",
              "1 Africa    54.80604 \n",
              "2 Asia      70.72848 \n",
              "3 Americas  73.60812 \n",
              "4 Europe    77.64860 \n",
              "5 Oceania   80.71950 "
            ],
            "text/latex": "A tibble: 5 × 2\n\\begin{tabular}{ll}\n continent & media\\_exp\\\\\n <fct> & <dbl>\\\\\n\\hline\n\t Africa   & 54.80604\\\\\n\t Asia     & 70.72848\\\\\n\t Americas & 73.60812\\\\\n\t Europe   & 77.64860\\\\\n\t Oceania  & 80.71950\\\\\n\\end{tabular}\n",
            "text/markdown": "\nA tibble: 5 × 2\n\n| continent &lt;fct&gt; | media_exp &lt;dbl&gt; |\n|---|---|\n| Africa   | 54.80604 |\n| Asia     | 70.72848 |\n| Americas | 73.60812 |\n| Europe   | 77.64860 |\n| Oceania  | 80.71950 |\n\n",
            "text/html": [
              "<table class=\"dataframe\">\n",
              "<caption>A tibble: 5 × 2</caption>\n",
              "<thead>\n",
              "\t<tr><th scope=col>continent</th><th scope=col>media_exp</th></tr>\n",
              "\t<tr><th scope=col>&lt;fct&gt;</th><th scope=col>&lt;dbl&gt;</th></tr>\n",
              "</thead>\n",
              "<tbody>\n",
              "\t<tr><td>Africa  </td><td>54.80604</td></tr>\n",
              "\t<tr><td>Asia    </td><td>70.72848</td></tr>\n",
              "\t<tr><td>Americas</td><td>73.60812</td></tr>\n",
              "\t<tr><td>Europe  </td><td>77.64860</td></tr>\n",
              "\t<tr><td>Oceania </td><td>80.71950</td></tr>\n",
              "</tbody>\n",
              "</table>\n"
            ]
          },
          "metadata": {
            "tags": []
          }
        }
      ]
    },
    {
      "cell_type": "markdown",
      "metadata": {
        "id": "FH0Zv_U6H00G"
      },
      "source": [
        "Ok. Acá pasaron varias cosas que tenemos que revisar tranquiles...\n",
        "\n",
        "* `gap2007 <- filter(gapminder, year==2007)` => acá filtramos los registros correspondientes al año 2007 y los guardamos en un objeto llamado `gap2007`\n",
        "* `groups <- group_by(gap2007, continent)` => generamos un objeto nuevo usando la función `gruop_by()`; y le dijimos, \"tomá los registros del año 2007 (`gap2007`) y agrupalos por la variable `continent`.\n",
        "\n",
        "Pero hasta ese momento, solamente generamos una agrupamiento. No hicimos ningún cálculo sobre esos grupos agregados. Allí entra la última línea:\n",
        "\n",
        "* `aggs <- summarise(groups, media_exp = mean(lifeExp))` => le dijimos \"Tomá el agrupamiento (`groups`) y calculá la media para la variable `lifeExp`, guardala en una variable que se llame `media_exp` y guardá todo en un objeto que se llame `aggs`.\n",
        "\n",
        "* `aggs <- arrange(aggs, media_exp)` => por último, le pedimos que nos deje ordenado el objeto `aggs` en función de la variable `media_exp` de forma ascendente (y ya que estamos, metimos otra función..."
      ]
    },
    {
      "cell_type": "markdown",
      "metadata": {
        "id": "zAKRwq3SKHNx"
      },
      "source": [
        "---\n",
        "¿Cuántas filas tiene `aggs`? ¿Y cuántas columnas? ¿Por qué?\n",
        "\n",
        "---"
      ]
    },
    {
      "cell_type": "markdown",
      "metadata": {
        "id": "9tO3A7VUKPs0"
      },
      "source": [
        "## Usando los pipes `%>%`\n",
        "\n",
        "Nos queda pendiente un verbo... `mutate()` pero vamos a dejarlo para más adelante. Antes de terminar, vamos a presentar una herramienta más: el operador pipe (pronúnciese “paip”, es el término en inglés que significa “tubo”).\n",
        "\n",
        "El pipe es un operador: un símbolo que relaciona dos entidades. Dicho en forma más simple, el pipe de R, cuyo símbolo es `%>%` está en familia con otros operadores más convencionales, como +, - o /. \n",
        "\n",
        "Y al igual que los otros operadores, entrega un resultado en base a los operandos que recibe. Ahora bien… ¿Para qué sirve? En resumidas cuentas, hace que el código necesario para realizar una serie de operaciones de transformación de datos sea mucho más simple de escribir y de interpretar.\n",
        "\n",
        "Repasemos la secuencia anterior…\n",
        "\n",
        "1. Filtramos registros\n",
        "2. Generamos un agrupamiento \n",
        "3. Generamos un resumen\n",
        "4. Ordenamos en forma descendente\n",
        "\n",
        "Un problema del ejemplo anterior es que hemos generado unos cuantos objetos (`gap2007` , `groups` y  `aggs`) que probablemente no volveremos a usar. Además de ser inútiles una vez obtenido el resultado buscado, estas variables intermedias requieren que las nombremos. Decidir el nombre de estas variables que no nos importan toma tiempo (sobre todo cuando producimos muchas), y nos distrae de lo importante, que es el análisis.\n",
        "\n",
        "El pipe,` %>%` que vimos más arriba, permite encadenar operaciones, conectando el resultado de una como el dato de entrada de la siguiente. La misma secuencia que realizamos antes puede resolverse con pipes, quedando así:"
      ]
    },
    {
      "cell_type": "code",
      "metadata": {
        "colab": {
          "base_uri": "https://localhost:8080/",
          "height": 252
        },
        "id": "s2WKXZGpHbNB",
        "outputId": "d33b5c25-fa6d-4a21-a37f-66ac65ca67d0"
      },
      "source": [
        "gapminder %>%\n",
        "  filter(year==2007) %>%\n",
        "  group_by(continent) %>%\n",
        "  summarise(mean_exp = mean(lifeExp)) %>%\n",
        "  arrange(mean_exp)"
      ],
      "execution_count": null,
      "outputs": [
        {
          "output_type": "display_data",
          "data": {
            "text/plain": [
              "  continent mean_exp\n",
              "1 Africa    54.80604\n",
              "2 Asia      70.72848\n",
              "3 Americas  73.60812\n",
              "4 Europe    77.64860\n",
              "5 Oceania   80.71950"
            ],
            "text/latex": "A tibble: 5 × 2\n\\begin{tabular}{ll}\n continent & mean\\_exp\\\\\n <fct> & <dbl>\\\\\n\\hline\n\t Africa   & 54.80604\\\\\n\t Asia     & 70.72848\\\\\n\t Americas & 73.60812\\\\\n\t Europe   & 77.64860\\\\\n\t Oceania  & 80.71950\\\\\n\\end{tabular}\n",
            "text/markdown": "\nA tibble: 5 × 2\n\n| continent &lt;fct&gt; | mean_exp &lt;dbl&gt; |\n|---|---|\n| Africa   | 54.80604 |\n| Asia     | 70.72848 |\n| Americas | 73.60812 |\n| Europe   | 77.64860 |\n| Oceania  | 80.71950 |\n\n",
            "text/html": [
              "<table class=\"dataframe\">\n",
              "<caption>A tibble: 5 × 2</caption>\n",
              "<thead>\n",
              "\t<tr><th scope=col>continent</th><th scope=col>mean_exp</th></tr>\n",
              "\t<tr><th scope=col>&lt;fct&gt;</th><th scope=col>&lt;dbl&gt;</th></tr>\n",
              "</thead>\n",
              "<tbody>\n",
              "\t<tr><td>Africa  </td><td>54.80604</td></tr>\n",
              "\t<tr><td>Asia    </td><td>70.72848</td></tr>\n",
              "\t<tr><td>Americas</td><td>73.60812</td></tr>\n",
              "\t<tr><td>Europe  </td><td>77.64860</td></tr>\n",
              "\t<tr><td>Oceania </td><td>80.71950</td></tr>\n",
              "</tbody>\n",
              "</table>\n"
            ]
          },
          "metadata": {
            "tags": []
          }
        }
      ]
    },
    {
      "cell_type": "markdown",
      "metadata": {
        "id": "DPBjU1j0M2OU"
      },
      "source": [
        "Fíjense que es mucho más linda y clara la sintaxis. Cada renglón genera un .output que es el input del renglón siguiente encadenado con los `%>%`. Esa tabla que sale del código anterior puede ser el input de un gráfico:"
      ]
    },
    {
      "cell_type": "code",
      "metadata": {
        "colab": {
          "base_uri": "https://localhost:8080/",
          "height": 437
        },
        "id": "jCDiqj2EMYYc",
        "outputId": "01e8603b-9134-443d-db45-5ee821d36d10"
      },
      "source": [
        "gapminder %>%\n",
        "  filter(year==2007) %>%\n",
        "  group_by(continent) %>%\n",
        "  summarise(mean_exp = mean(lifeExp)) %>%\n",
        "  arrange(mean_exp) %>%\n",
        "  ggplot() + \n",
        "    geom_bar(aes(x=continent, y=mean_exp), stat='identity')"
      ],
      "execution_count": null,
      "outputs": [
        {
          "output_type": "display_data",
          "data": {
            "image/png": "[encoded data removed]",
            "text/plain": [
              "plot without title"
            ]
          },
          "metadata": {
            "tags": [],
            "image/png": {
              "width": 420,
              "height": 420
            }
          }
        }
      ]
    },
    {
      "cell_type": "markdown",
      "metadata": {
        "id": "QryPLFEXNglk"
      },
      "source": [
        "Pero sobre eso vamos a trabaja la clase que viene... \n",
        "\n",
        "Mientras tanto, les dejamos algunas consignas para ir practicando estas cosas en casa. La idea es que los resuelvan usando los `%>%` porque son muy útiles para todo lo que vamos a estar en el resto del seminario. Vamos a discutirlos los primeros 20 minutos de la clase que viene.\n",
        "\n",
        "Las preguntas tienen cierto grado de ambigüedad porque queremos simular el proceso de pasar de una pregunta \"conceptual\" o \"abstracta\" a su operacionalización en código.\n",
        "\n",
        "\n",
        "## Ejercicios a resolver\n",
        "\n",
        "1. ¿Cuáles son los países con mayor PBI per cápita promedio a lo largo de todo el período? "
      ]
    },
    {
      "cell_type": "code",
      "metadata": {
        "id": "3tN6L41UNX41",
        "colab": {
          "base_uri": "https://localhost:8080/",
          "height": 271
        },
        "outputId": "f982fa52-60a0-4913-d6ce-75aead0a1a4f"
      },
      "source": [
        "gapminder %>%\n",
        "  group_by(country) %>%\n",
        "  summarise(mean_pbi = mean(gdpPercap)) %>%\n",
        "  arrange(desc(mean_pbi)) %>%\n",
        "  head()\n"
      ],
      "execution_count": null,
      "outputs": [
        {
          "output_type": "display_data",
          "data": {
            "text/plain": [
              "  country       mean_pbi\n",
              "1 Kuwait        65332.91\n",
              "2 Switzerland   27074.33\n",
              "3 Norway        26747.31\n",
              "4 United States 26261.15\n",
              "5 Canada        22410.75\n",
              "6 Netherlands   21748.85"
            ],
            "text/latex": "A tibble: 6 × 2\n\\begin{tabular}{ll}\n country & mean\\_pbi\\\\\n <fct> & <dbl>\\\\\n\\hline\n\t Kuwait        & 65332.91\\\\\n\t Switzerland   & 27074.33\\\\\n\t Norway        & 26747.31\\\\\n\t United States & 26261.15\\\\\n\t Canada        & 22410.75\\\\\n\t Netherlands   & 21748.85\\\\\n\\end{tabular}\n",
            "text/markdown": "\nA tibble: 6 × 2\n\n| country &lt;fct&gt; | mean_pbi &lt;dbl&gt; |\n|---|---|\n| Kuwait        | 65332.91 |\n| Switzerland   | 27074.33 |\n| Norway        | 26747.31 |\n| United States | 26261.15 |\n| Canada        | 22410.75 |\n| Netherlands   | 21748.85 |\n\n",
            "text/html": [
              "<table class=\"dataframe\">\n",
              "<caption>A tibble: 6 × 2</caption>\n",
              "<thead>\n",
              "\t<tr><th scope=col>country</th><th scope=col>mean_pbi</th></tr>\n",
              "\t<tr><th scope=col>&lt;fct&gt;</th><th scope=col>&lt;dbl&gt;</th></tr>\n",
              "</thead>\n",
              "<tbody>\n",
              "\t<tr><td>Kuwait       </td><td>65332.91</td></tr>\n",
              "\t<tr><td>Switzerland  </td><td>27074.33</td></tr>\n",
              "\t<tr><td>Norway       </td><td>26747.31</td></tr>\n",
              "\t<tr><td>United States</td><td>26261.15</td></tr>\n",
              "\t<tr><td>Canada       </td><td>22410.75</td></tr>\n",
              "\t<tr><td>Netherlands  </td><td>21748.85</td></tr>\n",
              "</tbody>\n",
              "</table>\n"
            ]
          },
          "metadata": {
            "tags": []
          }
        }
      ]
    },
    {
      "cell_type": "markdown",
      "metadata": {
        "id": "Ut2wxwYIODQF"
      },
      "source": [
        "2. ¿Cómo es la evolución de la expectativa de vida en Argentina?"
      ]
    },
    {
      "cell_type": "code",
      "metadata": {
        "id": "n34rHwysPE9O"
      },
      "source": [
        "gapminder %>%\n",
        "filter(country == 'Argentina') %>%\n",
        "select(country, year, lifeExp)%>%\n",
        "group_by(year)"
      ],
      "execution_count": null,
      "outputs": []
    },
    {
      "cell_type": "code",
      "metadata": {
        "colab": {
          "base_uri": "https://localhost:8080/"
        },
        "id": "AqekOUxjXjKV",
        "outputId": "ea4938a2-242b-400e-bfed-f4ff5b9a6de6"
      },
      "source": [
        "str(gapminder)"
      ],
      "execution_count": null,
      "outputs": [
        {
          "output_type": "stream",
          "text": [
            "tibble[,6] [1,704 × 6] (S3: tbl_df/tbl/data.frame)\n",
            " $ country  : Factor w/ 142 levels \"Afghanistan\",..: 1 1 1 1 1 1 1 1 1 1 ...\n",
            " $ continent: Factor w/ 5 levels \"Africa\",\"Americas\",..: 3 3 3 3 3 3 3 3 3 3 ...\n",
            " $ year     : int [1:1704] 1952 1957 1962 1967 1972 1977 1982 1987 1992 1997 ...\n",
            " $ lifeExp  : num [1:1704] 28.8 30.3 32 34 36.1 ...\n",
            " $ pop      : int [1:1704] 8425333 9240934 10267083 11537966 13079460 14880372 12881816 13867957 16317921 22227415 ...\n",
            " $ gdpPercap: num [1:1704] 779 821 853 836 740 ...\n"
          ],
          "name": "stdout"
        }
      ]
    },
    {
      "cell_type": "markdown",
      "metadata": {
        "id": "mYAdPenCPVkR"
      },
      "source": [
        "3. ¿Cómo es la evolución de la población total por continente?"
      ]
    },
    {
      "cell_type": "code",
      "metadata": {
        "id": "u6XPMWLsPK-o",
        "colab": {
          "base_uri": "https://localhost:8080/",
          "height": 1000
        },
        "outputId": "d28af179-d06f-446d-c5d0-dadaf0a25a20"
      },
      "source": [
        "gapminder %>%\n",
        "select(continent, year, pop)%>%\n",
        "group_by(year, continent)%>%\n",
        "summarise(pop_total = sum(pop))"
      ],
      "execution_count": null,
      "outputs": [
        {
          "output_type": "stream",
          "text": [
            "`summarise()` has grouped output by 'year'. You can override using the `.groups` argument.\n",
            "\n"
          ],
          "name": "stderr"
        },
        {
          "output_type": "display_data",
          "data": {
            "text/plain": [
              "   year continent pop_total \n",
              "1  1952 Africa     237640501\n",
              "2  1952 Americas   345152446\n",
              "3  1952 Asia      1395357351\n",
              "4  1952 Europe     418120846\n",
              "5  1952 Oceania     10686006\n",
              "6  1957 Africa     264837738\n",
              "7  1957 Americas   386953916\n",
              "8  1957 Asia      1562780599\n",
              "9  1957 Europe     437890351\n",
              "10 1957 Oceania     11941976\n",
              "11 1962 Africa     296516865\n",
              "12 1962 Americas   433270254\n",
              "13 1962 Asia      1696357182\n",
              "14 1962 Europe     460355155\n",
              "15 1962 Oceania     13283518\n",
              "16 1967 Africa     335289489\n",
              "17 1967 Americas   480746623\n",
              "18 1967 Asia      1905662900\n",
              "19 1967 Europe     481178958\n",
              "20 1967 Oceania     14600414\n",
              "21 1972 Africa     379879541\n",
              "22 1972 Americas   529384210\n",
              "23 1972 Asia      2150972248\n",
              "24 1972 Europe     500635059\n",
              "25 1972 Oceania     16106100\n",
              "26 1977 Africa     433061021\n",
              "27 1977 Americas   578067699\n",
              "28 1977 Asia      2384513556\n",
              "29 1977 Europe     517164531\n",
              "30 1977 Oceania     17239000\n",
              "31 1982 Africa     499348587\n",
              "32 1982 Americas   630290920\n",
              "33 1982 Asia      2610135582\n",
              "34 1982 Europe     531266901\n",
              "35 1982 Oceania     18394850\n",
              "36 1987 Africa     574834110\n",
              "37 1987 Americas   682753971\n",
              "38 1987 Asia      2871220762\n",
              "39 1987 Europe     543094160\n",
              "40 1987 Oceania     19574415\n",
              "41 1992 Africa     659081517\n",
              "42 1992 Americas   739274104\n",
              "43 1992 Asia      3133292191\n",
              "44 1992 Europe     558142797\n",
              "45 1992 Oceania     20919651\n",
              "46 1997 Africa     743832984\n",
              "47 1997 Americas   796900410\n",
              "48 1997 Asia      3383285500\n",
              "49 1997 Europe     568944148\n",
              "50 1997 Oceania     22241430\n",
              "51 2002 Africa     833723916\n",
              "52 2002 Americas   849772762\n",
              "53 2002 Asia      3601802203\n",
              "54 2002 Europe     578223869\n",
              "55 2002 Oceania     23454829\n",
              "56 2007 Africa     929539692\n",
              "57 2007 Americas   898871184\n",
              "58 2007 Asia      3811953827\n",
              "59 2007 Europe     586098529\n",
              "60 2007 Oceania     24549947"
            ],
            "text/latex": "A grouped\\_df: 60 × 3\n\\begin{tabular}{lll}\n year & continent & pop\\_total\\\\\n <int> & <fct> & <dbl>\\\\\n\\hline\n\t 1952 & Africa   &  237640501\\\\\n\t 1952 & Americas &  345152446\\\\\n\t 1952 & Asia     & 1395357351\\\\\n\t 1952 & Europe   &  418120846\\\\\n\t 1952 & Oceania  &   10686006\\\\\n\t 1957 & Africa   &  264837738\\\\\n\t 1957 & Americas &  386953916\\\\\n\t 1957 & Asia     & 1562780599\\\\\n\t 1957 & Europe   &  437890351\\\\\n\t 1957 & Oceania  &   11941976\\\\\n\t 1962 & Africa   &  296516865\\\\\n\t 1962 & Americas &  433270254\\\\\n\t 1962 & Asia     & 1696357182\\\\\n\t 1962 & Europe   &  460355155\\\\\n\t 1962 & Oceania  &   13283518\\\\\n\t 1967 & Africa   &  335289489\\\\\n\t 1967 & Americas &  480746623\\\\\n\t 1967 & Asia     & 1905662900\\\\\n\t 1967 & Europe   &  481178958\\\\\n\t 1967 & Oceania  &   14600414\\\\\n\t 1972 & Africa   &  379879541\\\\\n\t 1972 & Americas &  529384210\\\\\n\t 1972 & Asia     & 2150972248\\\\\n\t 1972 & Europe   &  500635059\\\\\n\t 1972 & Oceania  &   16106100\\\\\n\t 1977 & Africa   &  433061021\\\\\n\t 1977 & Americas &  578067699\\\\\n\t 1977 & Asia     & 2384513556\\\\\n\t 1977 & Europe   &  517164531\\\\\n\t 1977 & Oceania  &   17239000\\\\\n\t 1982 & Africa   &  499348587\\\\\n\t 1982 & Americas &  630290920\\\\\n\t 1982 & Asia     & 2610135582\\\\\n\t 1982 & Europe   &  531266901\\\\\n\t 1982 & Oceania  &   18394850\\\\\n\t 1987 & Africa   &  574834110\\\\\n\t 1987 & Americas &  682753971\\\\\n\t 1987 & Asia     & 2871220762\\\\\n\t 1987 & Europe   &  543094160\\\\\n\t 1987 & Oceania  &   19574415\\\\\n\t 1992 & Africa   &  659081517\\\\\n\t 1992 & Americas &  739274104\\\\\n\t 1992 & Asia     & 3133292191\\\\\n\t 1992 & Europe   &  558142797\\\\\n\t 1992 & Oceania  &   20919651\\\\\n\t 1997 & Africa   &  743832984\\\\\n\t 1997 & Americas &  796900410\\\\\n\t 1997 & Asia     & 3383285500\\\\\n\t 1997 & Europe   &  568944148\\\\\n\t 1997 & Oceania  &   22241430\\\\\n\t 2002 & Africa   &  833723916\\\\\n\t 2002 & Americas &  849772762\\\\\n\t 2002 & Asia     & 3601802203\\\\\n\t 2002 & Europe   &  578223869\\\\\n\t 2002 & Oceania  &   23454829\\\\\n\t 2007 & Africa   &  929539692\\\\\n\t 2007 & Americas &  898871184\\\\\n\t 2007 & Asia     & 3811953827\\\\\n\t 2007 & Europe   &  586098529\\\\\n\t 2007 & Oceania  &   24549947\\\\\n\\end{tabular}\n",
            "text/markdown": "\nA grouped_df: 60 × 3\n\n| year &lt;int&gt; | continent &lt;fct&gt; | pop_total &lt;dbl&gt; |\n|---|---|---|\n| 1952 | Africa   |  237640501 |\n| 1952 | Americas |  345152446 |\n| 1952 | Asia     | 1395357351 |\n| 1952 | Europe   |  418120846 |\n| 1952 | Oceania  |   10686006 |\n| 1957 | Africa   |  264837738 |\n| 1957 | Americas |  386953916 |\n| 1957 | Asia     | 1562780599 |\n| 1957 | Europe   |  437890351 |\n| 1957 | Oceania  |   11941976 |\n| 1962 | Africa   |  296516865 |\n| 1962 | Americas |  433270254 |\n| 1962 | Asia     | 1696357182 |\n| 1962 | Europe   |  460355155 |\n| 1962 | Oceania  |   13283518 |\n| 1967 | Africa   |  335289489 |\n| 1967 | Americas |  480746623 |\n| 1967 | Asia     | 1905662900 |\n| 1967 | Europe   |  481178958 |\n| 1967 | Oceania  |   14600414 |\n| 1972 | Africa   |  379879541 |\n| 1972 | Americas |  529384210 |\n| 1972 | Asia     | 2150972248 |\n| 1972 | Europe   |  500635059 |\n| 1972 | Oceania  |   16106100 |\n| 1977 | Africa   |  433061021 |\n| 1977 | Americas |  578067699 |\n| 1977 | Asia     | 2384513556 |\n| 1977 | Europe   |  517164531 |\n| 1977 | Oceania  |   17239000 |\n| 1982 | Africa   |  499348587 |\n| 1982 | Americas |  630290920 |\n| 1982 | Asia     | 2610135582 |\n| 1982 | Europe   |  531266901 |\n| 1982 | Oceania  |   18394850 |\n| 1987 | Africa   |  574834110 |\n| 1987 | Americas |  682753971 |\n| 1987 | Asia     | 2871220762 |\n| 1987 | Europe   |  543094160 |\n| 1987 | Oceania  |   19574415 |\n| 1992 | Africa   |  659081517 |\n| 1992 | Americas |  739274104 |\n| 1992 | Asia     | 3133292191 |\n| 1992 | Europe   |  558142797 |\n| 1992 | Oceania  |   20919651 |\n| 1997 | Africa   |  743832984 |\n| 1997 | Americas |  796900410 |\n| 1997 | Asia     | 3383285500 |\n| 1997 | Europe   |  568944148 |\n| 1997 | Oceania  |   22241430 |\n| 2002 | Africa   |  833723916 |\n| 2002 | Americas |  849772762 |\n| 2002 | Asia     | 3601802203 |\n| 2002 | Europe   |  578223869 |\n| 2002 | Oceania  |   23454829 |\n| 2007 | Africa   |  929539692 |\n| 2007 | Americas |  898871184 |\n| 2007 | Asia     | 3811953827 |\n| 2007 | Europe   |  586098529 |\n| 2007 | Oceania  |   24549947 |\n\n",
            "text/html": [
              "<table class=\"dataframe\">\n",
              "<caption>A grouped_df: 60 × 3</caption>\n",
              "<thead>\n",
              "\t<tr><th scope=col>year</th><th scope=col>continent</th><th scope=col>pop_total</th></tr>\n",
              "\t<tr><th scope=col>&lt;int&gt;</th><th scope=col>&lt;fct&gt;</th><th scope=col>&lt;dbl&gt;</th></tr>\n",
              "</thead>\n",
              "<tbody>\n",
              "\t<tr><td>1952</td><td>Africa  </td><td> 237640501</td></tr>\n",
              "\t<tr><td>1952</td><td>Americas</td><td> 345152446</td></tr>\n",
              "\t<tr><td>1952</td><td>Asia    </td><td>1395357351</td></tr>\n",
              "\t<tr><td>1952</td><td>Europe  </td><td> 418120846</td></tr>\n",
              "\t<tr><td>1952</td><td>Oceania </td><td>  10686006</td></tr>\n",
              "\t<tr><td>1957</td><td>Africa  </td><td> 264837738</td></tr>\n",
              "\t<tr><td>1957</td><td>Americas</td><td> 386953916</td></tr>\n",
              "\t<tr><td>1957</td><td>Asia    </td><td>1562780599</td></tr>\n",
              "\t<tr><td>1957</td><td>Europe  </td><td> 437890351</td></tr>\n",
              "\t<tr><td>1957</td><td>Oceania </td><td>  11941976</td></tr>\n",
              "\t<tr><td>1962</td><td>Africa  </td><td> 296516865</td></tr>\n",
              "\t<tr><td>1962</td><td>Americas</td><td> 433270254</td></tr>\n",
              "\t<tr><td>1962</td><td>Asia    </td><td>1696357182</td></tr>\n",
              "\t<tr><td>1962</td><td>Europe  </td><td> 460355155</td></tr>\n",
              "\t<tr><td>1962</td><td>Oceania </td><td>  13283518</td></tr>\n",
              "\t<tr><td>1967</td><td>Africa  </td><td> 335289489</td></tr>\n",
              "\t<tr><td>1967</td><td>Americas</td><td> 480746623</td></tr>\n",
              "\t<tr><td>1967</td><td>Asia    </td><td>1905662900</td></tr>\n",
              "\t<tr><td>1967</td><td>Europe  </td><td> 481178958</td></tr>\n",
              "\t<tr><td>1967</td><td>Oceania </td><td>  14600414</td></tr>\n",
              "\t<tr><td>1972</td><td>Africa  </td><td> 379879541</td></tr>\n",
              "\t<tr><td>1972</td><td>Americas</td><td> 529384210</td></tr>\n",
              "\t<tr><td>1972</td><td>Asia    </td><td>2150972248</td></tr>\n",
              "\t<tr><td>1972</td><td>Europe  </td><td> 500635059</td></tr>\n",
              "\t<tr><td>1972</td><td>Oceania </td><td>  16106100</td></tr>\n",
              "\t<tr><td>1977</td><td>Africa  </td><td> 433061021</td></tr>\n",
              "\t<tr><td>1977</td><td>Americas</td><td> 578067699</td></tr>\n",
              "\t<tr><td>1977</td><td>Asia    </td><td>2384513556</td></tr>\n",
              "\t<tr><td>1977</td><td>Europe  </td><td> 517164531</td></tr>\n",
              "\t<tr><td>1977</td><td>Oceania </td><td>  17239000</td></tr>\n",
              "\t<tr><td>1982</td><td>Africa  </td><td> 499348587</td></tr>\n",
              "\t<tr><td>1982</td><td>Americas</td><td> 630290920</td></tr>\n",
              "\t<tr><td>1982</td><td>Asia    </td><td>2610135582</td></tr>\n",
              "\t<tr><td>1982</td><td>Europe  </td><td> 531266901</td></tr>\n",
              "\t<tr><td>1982</td><td>Oceania </td><td>  18394850</td></tr>\n",
              "\t<tr><td>1987</td><td>Africa  </td><td> 574834110</td></tr>\n",
              "\t<tr><td>1987</td><td>Americas</td><td> 682753971</td></tr>\n",
              "\t<tr><td>1987</td><td>Asia    </td><td>2871220762</td></tr>\n",
              "\t<tr><td>1987</td><td>Europe  </td><td> 543094160</td></tr>\n",
              "\t<tr><td>1987</td><td>Oceania </td><td>  19574415</td></tr>\n",
              "\t<tr><td>1992</td><td>Africa  </td><td> 659081517</td></tr>\n",
              "\t<tr><td>1992</td><td>Americas</td><td> 739274104</td></tr>\n",
              "\t<tr><td>1992</td><td>Asia    </td><td>3133292191</td></tr>\n",
              "\t<tr><td>1992</td><td>Europe  </td><td> 558142797</td></tr>\n",
              "\t<tr><td>1992</td><td>Oceania </td><td>  20919651</td></tr>\n",
              "\t<tr><td>1997</td><td>Africa  </td><td> 743832984</td></tr>\n",
              "\t<tr><td>1997</td><td>Americas</td><td> 796900410</td></tr>\n",
              "\t<tr><td>1997</td><td>Asia    </td><td>3383285500</td></tr>\n",
              "\t<tr><td>1997</td><td>Europe  </td><td> 568944148</td></tr>\n",
              "\t<tr><td>1997</td><td>Oceania </td><td>  22241430</td></tr>\n",
              "\t<tr><td>2002</td><td>Africa  </td><td> 833723916</td></tr>\n",
              "\t<tr><td>2002</td><td>Americas</td><td> 849772762</td></tr>\n",
              "\t<tr><td>2002</td><td>Asia    </td><td>3601802203</td></tr>\n",
              "\t<tr><td>2002</td><td>Europe  </td><td> 578223869</td></tr>\n",
              "\t<tr><td>2002</td><td>Oceania </td><td>  23454829</td></tr>\n",
              "\t<tr><td>2007</td><td>Africa  </td><td> 929539692</td></tr>\n",
              "\t<tr><td>2007</td><td>Americas</td><td> 898871184</td></tr>\n",
              "\t<tr><td>2007</td><td>Asia    </td><td>3811953827</td></tr>\n",
              "\t<tr><td>2007</td><td>Europe  </td><td> 586098529</td></tr>\n",
              "\t<tr><td>2007</td><td>Oceania </td><td>  24549947</td></tr>\n",
              "</tbody>\n",
              "</table>\n"
            ]
          },
          "metadata": {
            "tags": []
          }
        }
      ]
    }
  ]
}