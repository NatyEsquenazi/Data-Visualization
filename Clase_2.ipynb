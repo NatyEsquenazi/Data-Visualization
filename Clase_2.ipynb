{
  "nbformat": 4,
  "nbformat_minor": 0,
  "metadata": {
    "colab": {
      "name": "Clase 2.ipynb",
      "provenance": [],
      "collapsed_sections": [],
      "include_colab_link": true
    },
    "kernelspec": {
      "name": "ir",
      "display_name": "R"
    },
    "language_info": {
      "name": "R"
    }
  },
  "cells": [
    {
      "cell_type": "markdown",
      "metadata": {
        "id": "view-in-github",
        "colab_type": "text"
      },
      "source": [
        "<a href=\"https://colab.research.google.com/github/NatyEsquenazi/Data-Visualization/blob/main/Clase_2.ipynb\" target=\"_parent\"><img src=\"https://colab.research.google.com/assets/colab-badge.svg\" alt=\"Open In Colab\"/></a>"
      ]
    },
    {
      "cell_type": "code",
      "metadata": {
        "id": "TjLt0wu0jRaQ",
        "colab": {
          "base_uri": "https://localhost:8080/"
        },
        "outputId": "b7b1d1a9-91a0-44e7-fe52-3326d88afe7a"
      },
      "source": [
        "install.packages('gapminder')\n",
        "library(tidyverse)"
      ],
      "execution_count": null,
      "outputs": [
        {
          "output_type": "stream",
          "text": [
            "Installing package into ‘/usr/local/lib/R/site-library’\n",
            "(as ‘lib’ is unspecified)\n",
            "\n",
            "Warning message in system(\"timedatectl\", intern = TRUE):\n",
            "“running command 'timedatectl' had status 1”\n",
            "── \u001b[1mAttaching packages\u001b[22m ─────────────────────────────────────── tidyverse 1.3.1 ──\n",
            "\n",
            "\u001b[32m✔\u001b[39m \u001b[34mggplot2\u001b[39m 3.3.3     \u001b[32m✔\u001b[39m \u001b[34mpurrr  \u001b[39m 0.3.4\n",
            "\u001b[32m✔\u001b[39m \u001b[34mtibble \u001b[39m 3.1.1     \u001b[32m✔\u001b[39m \u001b[34mdplyr  \u001b[39m 1.0.5\n",
            "\u001b[32m✔\u001b[39m \u001b[34mtidyr  \u001b[39m 1.1.3     \u001b[32m✔\u001b[39m \u001b[34mstringr\u001b[39m 1.4.0\n",
            "\u001b[32m✔\u001b[39m \u001b[34mreadr  \u001b[39m 1.4.0     \u001b[32m✔\u001b[39m \u001b[34mforcats\u001b[39m 0.5.1\n",
            "\n",
            "── \u001b[1mConflicts\u001b[22m ────────────────────────────────────────── tidyverse_conflicts() ──\n",
            "\u001b[31m✖\u001b[39m \u001b[34mdplyr\u001b[39m::\u001b[32mfilter()\u001b[39m masks \u001b[34mstats\u001b[39m::filter()\n",
            "\u001b[31m✖\u001b[39m \u001b[34mdplyr\u001b[39m::\u001b[32mlag()\u001b[39m    masks \u001b[34mstats\u001b[39m::lag()\n",
            "\n"
          ],
          "name": "stderr"
        }
      ]
    },
    {
      "cell_type": "markdown",
      "metadata": {
        "id": "DMq8APfcjeQI"
      },
      "source": [
        "# Haciendo un (primer) gráfico\n",
        "\n",
        "## Objetivos\n",
        "- Conocer algunas de las funciones centrales de `ggplot`\n",
        "- Entender el flujo de trabajo para producir una visualización (que es más o menos similar en todos los casos)\n",
        "- Lograr algunas visualizaciones bastante sofisticadas en poco tiempo\n",
        "\n",
        "## ¿Cómo funciona `ggplot`?\n",
        "Como vimos en la clase pasada, una visualización implica represetar los datos usando línea, formas, colores, tamaños, etc. Existe un \"mapeo\", es decir, una relación estructurada, entre las variables en el dataset y su representación en la pantalla o en el papel.\n",
        "\n",
        "A su vez, no todas los mapeos tienen sentido para todas las variables y que algunas representaciones son más difíciles de interpretar que otras.\n",
        "\n",
        "`ggplot` provee una serie de herramientas para facilitar estas operaciones de mapeo entre los datos y las representaciones estéticas. De esta forma, permite tunear bastante finamente los gráficos para representar lo que uno quiere.\n",
        "\n",
        "La siguiente figura muestra un flujo más o menos estándar del proceso... comenzando por los datos y terminando en el gráfico. La idea, por ahora, es tener una idea del proceso general. Las próximas clases nos iremos metiendo en detalle en cada una de las etapas. No desesperen...\n",
        "\n",
        "<img src=\"https://socviz.co/assets/ch-03-ggplot-flow-vertical.png\" width=\"400\" height=\"1600\" />\n",
        "\n",
        "El punto más importante para usar `ggplot` es tratar de pensar en la estructura lógica del gráfico que se busca crear. El código que se escribe (que veremos, no es tan complicado) simplemente especifica las conexiones entre las variables en el dataset y los colores, formas, tamaños, etc. que veremos en la pantalla. En la terminología de `ggplot` estas conexiones se llaman _aesthetics_ o _estéticas_.\n",
        "\n",
        "Siempre se comienza cada gráfico \"diciéndole\" a la función `ggplot()` cuál es tu data y cuáles de las variables en esa data se van a mapear con algua estética del gráfico. Luego, tomamos el resultado y especificamos qué tipo general de gráfico queremos hacer (un scatterplot, un boxplot, un histograma, etc.). Así\n",
        "\n",
        "- `geom_point()` genera scatterplots\n",
        "- `geom_bar()` genera gráficos de barras\n",
        "- `geom_boxplots()` genera gráficos de cajas y bigotes (boxplots)\n",
        "- etc... (hay muuuuuchas de estas funciones)\n",
        "\n",
        "Luego, combinamos estas dos piezas el objeto `ggplot` y la geometría sumándolas con el signo `+`.\n",
        "\n",
        "En términos generales, eso es todo. Con esto se puede hacer un plot. El resto (y sobre lo que vamos a ir trabajando) es la _sintonía fina_: especificar de forma correcta los detalles. Si no especificamos nada... `ggplot` va a tomar una serie de decisiones por defecto. Pero en general, vamos a querer trabajar sobre esos detalles:\n",
        "\n",
        "- qué escalas vamos a usar en los ejes\n",
        "- las etiquetas de los ejes y las leyendas\n",
        "- alguna(s) otra(s) guía(s) para hacer más legible(s) los resultados\n",
        "\n",
        "Todos estos detalles adicionales van a ir siendo \"sumados\" de la misma forma como hicimos con la función `geom_`. Cada componente tiene su prpia función, vamos setenado los arguemtnos de cada una y, finalmente, la sumamos con el `+`. Así podemos ir construyendo cada gráfico **paso a paso**...\n",
        "\n",
        "<img src=\"https://lmdiario.com.ar/download/multimedia.normal.b1bca6398082375e.6d65726c6f5f6e6f726d616c2e6a7067.jpg\" width=\"300\" height=\"200\" />\n",
        "\n",
        "A continuación vamos a ir trabajando sobre éste proceso... Vamos a proceder por ejemplos, construyendo repetidamente series de gráficos. Recomendación: no copien el código, escríbanlo desde cero. Es la forma más efectiva de habituarse a codear y sentirse cómodes con la sintaxis. Van a cometer errores... no hay problema.\n",
        "\n",
        "## Datos ordenados (tidy)\n",
        "Nos vamos a estar refiriendo bastante a los \"datos ordenados\" o _tidy data_ ([Wickham, 2014](https://vita.had.co.nz/papers/tidy-data.pdf])). De alguna manera, se vincula al formato de los datos.\n",
        "\n",
        "- en una tabla en formato \"largo\" (long), cada variable es una columna y cada observación es una fila\n",
        "- en una tabla en formato \"ancho\" (wide), algunas variables está esparcidas a lo largo de las columnas.\n",
        "\n",
        "Por ejemplo, veamos la tabla 1. \n",
        "\n",
        "\n",
        "<img src=\"https://github.com/gefero/idaes_viz/blob/main/imgs/clase_2_02_long_data.png?raw=true\" width=\"800\" height=\"250\" />\n",
        "\n",
        "---\n",
        "### Preguntas\n",
        "- ¿Qué información presenta? \n",
        "- ¿Cuál de los dos formatos les parece que representa?\n",
        "- ¿Y la tabla 2?\n",
        "\n",
        "<img src=\"https://github.com/gefero/idaes_viz/blob/main/imgs/clase_2_03_wide_data.png?raw=true\" width=\"800\" height=\"250\" />\n",
        "---\n",
        "\n",
        "Si comparamos las dos tablas, parece evidente que una tabla \"tidy\" no presenta la información en su forma más compacta. De hecho, si quisiéramos mostrarle a la gente los números (y no un gráfico) probablemente una tabla como la 1 (en ese formato ancho) sería más apropiada. \n",
        "\n",
        "No estamos queriendo decir que las tablas wide sean peores o desordenadas en términos absolutos. Cada formato depende de lo que se está buscando hacer. En ese sentido, vamos a ver que el formato long hace mucho más fácil especificar los mapeos que necesitamos entre datos y estéticas."
      ]
    },
    {
      "cell_type": "markdown",
      "metadata": {
        "id": "u2AA01S9k3LD"
      },
      "source": [
        "## Mapeando datos a objetos estéticos\n",
        "Va a ser útil pensar en una \"receta\" para arrancar cada vez que querramos hacer un gráfico:\n",
        "\n",
        "\n",
        "<img src=\"https://socviz.co/assets/ch-03-ggplot-formula-schematic.png\" width=\"300\" height=\"200\" />\n",
        "\n",
        "\n",
        "1. Empezamos con un solo objeto: , que debería estar en una forma que ggplot entienda (generalmente, un dataframe o algo similar como una tibble). Le decimos a `ggplot` cuál es nuestra data.\n",
        "2. Guardamos esta info en un objeto `p`, que va a contener la informacion fundamental del plot.\n",
        "3. Elegimos un tipo de plot (generalmente, una `geom_`) y la sumamos con `+`\n",
        "4. Vamos agrengado las capas que necesitemos...\n",
        "\n",
        "Vamos a usar data de [Gapminder](https://www.gapminder.org/) para hacer nuestros primeros plots.\n",
        "\n"
      ]
    },
    {
      "cell_type": "code",
      "metadata": {
        "id": "EqresBmZk9zc",
        "colab": {
          "base_uri": "https://localhost:8080/",
          "height": 271
        },
        "outputId": "0d5ff103-8759-43cc-edb5-57f853f69cc4"
      },
      "source": [
        "library(gapminder)\n",
        "head(gapminder)"
      ],
      "execution_count": null,
      "outputs": [
        {
          "output_type": "display_data",
          "data": {
            "text/plain": [
              "  country     continent year lifeExp pop      gdpPercap\n",
              "1 Afghanistan Asia      1952 28.801   8425333 779.4453 \n",
              "2 Afghanistan Asia      1957 30.332   9240934 820.8530 \n",
              "3 Afghanistan Asia      1962 31.997  10267083 853.1007 \n",
              "4 Afghanistan Asia      1967 34.020  11537966 836.1971 \n",
              "5 Afghanistan Asia      1972 36.088  13079460 739.9811 \n",
              "6 Afghanistan Asia      1977 38.438  14880372 786.1134 "
            ],
            "text/latex": "A tibble: 6 × 6\n\\begin{tabular}{llllll}\n country & continent & year & lifeExp & pop & gdpPercap\\\\\n <fct> & <fct> & <int> & <dbl> & <int> & <dbl>\\\\\n\\hline\n\t Afghanistan & Asia & 1952 & 28.801 &  8425333 & 779.4453\\\\\n\t Afghanistan & Asia & 1957 & 30.332 &  9240934 & 820.8530\\\\\n\t Afghanistan & Asia & 1962 & 31.997 & 10267083 & 853.1007\\\\\n\t Afghanistan & Asia & 1967 & 34.020 & 11537966 & 836.1971\\\\\n\t Afghanistan & Asia & 1972 & 36.088 & 13079460 & 739.9811\\\\\n\t Afghanistan & Asia & 1977 & 38.438 & 14880372 & 786.1134\\\\\n\\end{tabular}\n",
            "text/markdown": "\nA tibble: 6 × 6\n\n| country &lt;fct&gt; | continent &lt;fct&gt; | year &lt;int&gt; | lifeExp &lt;dbl&gt; | pop &lt;int&gt; | gdpPercap &lt;dbl&gt; |\n|---|---|---|---|---|---|\n| Afghanistan | Asia | 1952 | 28.801 |  8425333 | 779.4453 |\n| Afghanistan | Asia | 1957 | 30.332 |  9240934 | 820.8530 |\n| Afghanistan | Asia | 1962 | 31.997 | 10267083 | 853.1007 |\n| Afghanistan | Asia | 1967 | 34.020 | 11537966 | 836.1971 |\n| Afghanistan | Asia | 1972 | 36.088 | 13079460 | 739.9811 |\n| Afghanistan | Asia | 1977 | 38.438 | 14880372 | 786.1134 |\n\n",
            "text/html": [
              "<table class=\"dataframe\">\n",
              "<caption>A tibble: 6 × 6</caption>\n",
              "<thead>\n",
              "\t<tr><th scope=col>country</th><th scope=col>continent</th><th scope=col>year</th><th scope=col>lifeExp</th><th scope=col>pop</th><th scope=col>gdpPercap</th></tr>\n",
              "\t<tr><th scope=col>&lt;fct&gt;</th><th scope=col>&lt;fct&gt;</th><th scope=col>&lt;int&gt;</th><th scope=col>&lt;dbl&gt;</th><th scope=col>&lt;int&gt;</th><th scope=col>&lt;dbl&gt;</th></tr>\n",
              "</thead>\n",
              "<tbody>\n",
              "\t<tr><td>Afghanistan</td><td>Asia</td><td>1952</td><td>28.801</td><td> 8425333</td><td>779.4453</td></tr>\n",
              "\t<tr><td>Afghanistan</td><td>Asia</td><td>1957</td><td>30.332</td><td> 9240934</td><td>820.8530</td></tr>\n",
              "\t<tr><td>Afghanistan</td><td>Asia</td><td>1962</td><td>31.997</td><td>10267083</td><td>853.1007</td></tr>\n",
              "\t<tr><td>Afghanistan</td><td>Asia</td><td>1967</td><td>34.020</td><td>11537966</td><td>836.1971</td></tr>\n",
              "\t<tr><td>Afghanistan</td><td>Asia</td><td>1972</td><td>36.088</td><td>13079460</td><td>739.9811</td></tr>\n",
              "\t<tr><td>Afghanistan</td><td>Asia</td><td>1977</td><td>38.438</td><td>14880372</td><td>786.1134</td></tr>\n",
              "</tbody>\n",
              "</table>\n"
            ]
          },
          "metadata": {
            "tags": []
          }
        }
      ]
    },
    {
      "cell_type": "markdown",
      "metadata": {
        "id": "M1r0POYDUFWi"
      },
      "source": [
        "---\n",
        "### Preguntas 2 \n",
        "- ¿En qué formato está esta data?\n",
        "- ¿Qué información tiene?\n",
        "- ¿Cuáles son las variables y las unidades de análisis?\n",
        "\n",
        "---\n",
        "\n"
      ]
    },
    {
      "cell_type": "markdown",
      "metadata": {
        "id": "pUngZEl69-_f"
      },
      "source": [
        "La unidad de analisis serian los paises "
      ]
    },
    {
      "cell_type": "markdown",
      "metadata": {
        "id": "VrOgS4gBT8h3"
      },
      "source": [
        "Queremos plotear la expectativa de vida contra el PBI per cápita para cada país-año del deataset. Apliquemos la receta:\n",
        "\n",
        "**1. Creamos el objeto `p`, definiendo cuál es la data...**"
      ]
    },
    {
      "cell_type": "code",
      "metadata": {
        "id": "i0OZ2bVwUpsK"
      },
      "source": [
        "p <- ggplot(data = gapminder)"
      ],
      "execution_count": null,
      "outputs": []
    },
    {
      "cell_type": "markdown",
      "metadata": {
        "id": "lm8JHMxKXFEl"
      },
      "source": [
        "Hasta acá `ggplot` solo sabe cuál es el dataset pero no sabe cual es el mapeo (o `mapping`). Tenemos que definir cuáles son las variables que van a ser mapeadas a elementos visuales en el gráfico..."
      ]
    },
    {
      "cell_type": "code",
      "metadata": {
        "id": "cmiXJd5glTjs"
      },
      "source": [
        "p <- ggplot(data = gapminder,\n",
        "            mapping = aes(x = gdpPercap,\n",
        "                          y = lifeExp))"
      ],
      "execution_count": null,
      "outputs": []
    },
    {
      "cell_type": "markdown",
      "metadata": {
        "id": "yNCR7r8lXWTz"
      },
      "source": [
        "Veamos:\n",
        "- el argumento `data=` le  dice a `ggplot` donde buscar las variables que se van a usar\n",
        "- el argumento que toma `mapping=` es una función\n",
        "- esa función es `aes()` es una secuencia de definiciones que `ggplot` va a usar luego. Le dice \n",
        "> \"la variable que va en el eje x es gdpPecap, la que va en el eje y es lifeExp\"\n",
        "\n",
        "Como definimos que los datos están en el objeto gapminder, `ggplot` busca los nombres de las variables allí.\n",
        "- `mapping = aes(...)` linkea las variables con cosas que vamos a ver en el gráfico. Los valores de x e y son los más obvios. Pero hay otros mapeos estéticos (o aestethic mappings): por ejemplo, el color, la forma, el tamaño, el tipo de línea o punto, etc. Es importante notar que el mapeo une variables con elementos visuales pero no define específicamente cuáles van a ser.\n",
        "\n",
        "¿Qué pasa si tipeamos p en la consola?"
      ]
    },
    {
      "cell_type": "code",
      "metadata": {
        "id": "Fu2ytweaXVPK"
      },
      "source": [
        "p"
      ],
      "execution_count": null,
      "outputs": []
    },
    {
      "cell_type": "markdown",
      "metadata": {
        "id": "cFhxiFj1Xcvl"
      },
      "source": [
        "Vemos que se agregó información al objeto:\n",
        "- efectivamente se creó un objeto p\n",
        "- en el eje x está la variable gdpPercap\n",
        "- en el eje y, la variable lifeExp\n",
        "\n",
        "\n",
        "**2. Elegimos el tipo de gráfico**\n",
        "\n",
        "Pero todavía no le dimos información sobre el tipo de gráfico que queremos hacer (o la \"geometría\"). Para ello tenemos que agregar una capa, eligiendo alguna función `geom_`.\n",
        "\n",
        "Probemos con `geom_point()` para hacer un scatterplot. Ya sabe que tiene que poner en el eje X y en el Y."
      ]
    },
    {
      "cell_type": "code",
      "metadata": {
        "id": "X8lN0QU-XdkZ"
      },
      "source": [
        "p + geom_point()"
      ],
      "execution_count": null,
      "outputs": []
    },
    {
      "cell_type": "markdown",
      "metadata": {
        "id": "e1U3-Jkell74"
      },
      "source": [
        "## Construyendo gráficos por capas\n",
        "Lo bueno es que, conceptualmente, a partir de ahora la cosa no va a cambiar tanto. Será una cuestión de aprender con mayores detalles qué hace `ggplot` y cómo decirle que haga lo que queremos. Vamos a aprender bastante sobre geoms (o tipos de gráficos), y sobre las funciones que controlan las ecalas de los ejes, etiquetas, etc. Con estas pocas herramientas vamos a poder generar gráficos bastante sofisticados. \n",
        "\n",
        "Pero siempre vamos a estar aplicando nuestra receta:\n",
        "\n",
        "1. Decirle a la función `ggplot()` cuál es nuestra data => el paso `data=...`\n",
        "2. Decirle a `ggplot()` que relaciones queremos ver => el paso `mapping = aes(...)`\n",
        "\n",
        "> Por conveniencia vamos a guardar los resultados de estos dos primeros pasos en un objeto llamado `p`.\n",
        "\n",
        "3. Decirle a `ggplot()` como queremos ver esas relaciones => elegir una `geom_`\n",
        "4. Apilar o agregar tantas geoms como neceistemos al objeto `p` de a una por vez scale_, family, labs() and guides() functions. \n",
        "5. Usar funciones adicionales para ajustar escalas, etiqueta, títulos, etc. => Funciones de la familia `scale_`,  `labs()` and `guides()`.\n",
        "\n",
        "Para empzar vamos a dejar que ggplot use los valores por defecto para varias cosas (titulos, marcas en ejes, etiquetas, leyendas, etc.). Por ejemplo, ggplot siempre asume por defecto un sistema de coordenadas cartesianos: un plano definido por x e y.\n",
        "\n",
        "Por ejemplo, usemos otra función `geom_` con el plot:"
      ]
    },
    {
      "cell_type": "code",
      "metadata": {
        "id": "73yTb1rxlold"
      },
      "source": [
        "p <- ggplot(data = gapminder,\n",
        "            mapping = aes(x = gdpPercap,\n",
        "                          y=lifeExp))\n",
        "p + geom_smooth()"
      ],
      "execution_count": null,
      "outputs": []
    },
    {
      "cell_type": "markdown",
      "metadata": {
        "id": "AODwikx_XtNm"
      },
      "source": [
        "Ya no vemos puntos en el eje X e Y. Lo que hizo `geom_smooth()` es calcular una línea de suavizado y mostrarnos (en gris sombread) los valores de error estimados.\n",
        "\n",
        "Si queremos ver tanto los puntos como el suavizado, simplemente, tenemos que agregar de nuevo el `geom_point()`:"
      ]
    },
    {
      "cell_type": "code",
      "metadata": {
        "id": "Xx4AdzNaXvGR"
      },
      "source": [
        "p <- ggplot(data = gapminder,\n",
        "            mapping = aes(x = gdpPercap,\n",
        "                          y=lifeExp))\n",
        "p + geom_point() + geom_smooth(se=FALSE) "
      ],
      "execution_count": null,
      "outputs": []
    },
    {
      "cell_type": "markdown",
      "metadata": {
        "id": "Hv4CSECKXws0"
      },
      "source": [
        "El mensaje que aparece nos avisa que `geom_smooth()` está usando un método llamado \"gam\" (es decir, que ha suavizado con un modelo aditivo generalizado)\n",
        "\n",
        "Hay otros métodos... por ejemplo, podríamos querer fitear una línea recta: podemos lograr esto modificando los argumentos de `geom_smooth(), introduciendo `method = \"lm\"`:"
      ]
    },
    {
      "cell_type": "code",
      "metadata": {
        "id": "8FDfbYZ_Xy1V"
      },
      "source": [
        "p <- ggplot(data = gapminder,\n",
        "            mapping = aes(x = gdpPercap,\n",
        "                          y=lifeExp))\n",
        "p + geom_point() + geom_smooth(method = \"lm\", se=TRUE) "
      ],
      "execution_count": null,
      "outputs": []
    },
    {
      "cell_type": "markdown",
      "metadata": {
        "id": "a2QfGOA1X0rV"
      },
      "source": [
        "Algunas cosas importantes a notar:\n",
        "- no tenemos que decirle a `geom_point()` o a `geom_smooth()` de dónde viene la data o que mapeos deberían usar; heredan la información del objeto `p`.\n",
        "- la data aparece bastante apilada sobre el eje izquierdo; es obvio que el PBI per cápita no aparece distribuido normalmente u homogéneamente entre los países.\n",
        "- para solucionar este problema, podemos probar modificar la escala del eje X y transformarla en escala logarímica; vamos a usar una función ` scale_x_log10()`. "
      ]
    },
    {
      "cell_type": "code",
      "metadata": {
        "id": "XskHkZhQX2w3"
      },
      "source": [
        "p <- ggplot(data = gapminder,\n",
        "            mapping = aes(x = gdpPercap,\n",
        "                          y = lifeExp))\n",
        "p + geom_point() +\n",
        "    geom_smooth(method = \"gam\") +\n",
        "    scale_x_log10()\n"
      ],
      "execution_count": null,
      "outputs": []
    },
    {
      "cell_type": "markdown",
      "metadata": {
        "id": "WBvnijD-X4hM"
      },
      "source": [
        "Esta transformación afecta a los puntos y también cambia la forma de la línea de suavizado. Mientras que `ggplot()` y sus funciones asociadas no hagan cambios en los datos subyacentes (el objeto `gapminder`) la trasnformación de escala es aplicada antes que el suavizador se agregue como capa en el plot.\n",
        "\n",
        "Hay muchos tipos de transformaciones de escala que se pueden usar sobre los ejes. En general el nombre tiene el siguiente formato `scale_[eje]_[transformacion]()`.\n",
        "\n",
        "---\n",
        "**Ejercicio 1.**\n",
        "\n",
        "1. ¿De qué otra forma se les ocurre que se podría llegar al mismo resultado?\n",
        "2. Buscar en la documentación de [ggplot](https://ggplot2.tidyverse.org/reference/index.html) un ejemplo de otra transformación de escala de los ejes y aplicarla al gráfico\n",
        "\n"
      ]
    },
    {
      "cell_type": "code",
      "metadata": {
        "id": "kB32e5FgfVdA"
      },
      "source": [
        "# Transformo con logaritmo porque parece que lifeExp no se comporta de manera lineal \n",
        "p <- ggplot(data = gapminder,\n",
        "            mapping = aes(x = gdpPercap,\n",
        "                          y = lifeExp))\n",
        "p + geom_point() +\n",
        "    geom_smooth(method = \"gam\") +\n",
        "    scale_x_continuous(trans='log10')"
      ],
      "execution_count": null,
      "outputs": []
    },
    {
      "cell_type": "code",
      "metadata": {
        "id": "vlT9bt6qf_Zw"
      },
      "source": [
        "ggplot(data = gapminder,\n",
        "            mapping = aes(x = log10(gdpPercap),\n",
        "                          y = lifeExp))+\n",
        "                          geom_point() +\n",
        "    geom_smooth(method = \"gam\") "
      ],
      "execution_count": null,
      "outputs": []
    },
    {
      "cell_type": "markdown",
      "metadata": {
        "id": "FhV2hrmJhpiO"
      },
      "source": [
        "---"
      ]
    },
    {
      "cell_type": "markdown",
      "metadata": {
        "id": "8x-dNLQkfVtt"
      },
      "source": [
        "Ahora bien, en este punto si estamos pensando en presentar este gráfico de dispersión con escalas apropiadas y con un suavizado, sería un buen momento para mejorar un poco las etiquetas de los ejes. Particularmente, la del eje X que nos quedó como notación científica y deberían ser dólares.\n",
        "\n",
        "Podemos hacerlo de forma bastante simple. Las etiquetas de las marcas en los ejes son controlados por las funciones `scale_`. Si bien se puede suministrar las etiquetas manualmente (lo veremos más adelante), también hay algunas librerías de R que contienen formatos predefinidos que pueden ser súper úitles.\n",
        "\n",
        "Vamos a probar una que se llama `scales` y vamos a usar la función `dollars`. Podríamos cargar toda la liberaría haciendo\n",
        "\n",
        "```\n",
        "library(scales)\n",
        "```\n",
        "\n",
        "Pero dado que solo vamos a usar una sola función podemos cargar solamente la función que queremos usar con este formato `scales::dollars`. Cada vez que querramos utilizar solo una función y no tengamos ganas de cargar el paquete entero podemos usar este formato de código: `[libreria]::[funcion]`."
      ]
    },
    {
      "cell_type": "code",
      "metadata": {
        "id": "PB-96KxJX7SW"
      },
      "source": [
        "p <- ggplot(data = gapminder, mapping = aes(x = gdpPercap, y=lifeExp))\n",
        "p + geom_point() +\n",
        "    geom_smooth(method = \"gam\") +\n",
        "    scale_x_log10(labels = scales::dollar)"
      ],
      "execution_count": null,
      "outputs": []
    },
    {
      "cell_type": "markdown",
      "metadata": {
        "id": "vLwCDkIvX9Hq"
      },
      "source": [
        "Dos cosas importantes a recordar sobre las escalas de un gráfico (por ahora):\n",
        "\n",
        "1. podemos modificar los ejes X e Y tan simplemente como agregando al gráfico una capa similar a `scale_x_log10()` o `scale_y_log10()`. Cuando haemos eso, los ejes se modifican y, por defecto, las marcas de los ejes se muestran en notación cientifica \n",
        "\n",
        "2. podemos pasarle a estas funciones `scale_` un argumento `labels` que reformatea el texto que imrpime en el eje. \n",
        "\n",
        "---\n",
        "\n",
        "**Ejercicio 2.**\n",
        "\n",
        "Probar dentro de `scale_x_log10()` el argumento `labels=scales::comma`...\n"
      ]
    },
    {
      "cell_type": "code",
      "metadata": {
        "id": "bZ619QefkoDn"
      },
      "source": [
        "### RESOLVER ACÁ\n",
        "p <- ggplot(data = gapminder, mapping = aes(x = gdpPercap, y=lifeExp))\n",
        "p + geom_point() +\n",
        "    geom_smooth(method = \"gam\") +\n",
        "    scale_x_log10(labels=scales::comma)"
      ],
      "execution_count": null,
      "outputs": []
    },
    {
      "cell_type": "markdown",
      "metadata": {
        "id": "2ccgY_6chuZh"
      },
      "source": [
        "---"
      ]
    },
    {
      "cell_type": "markdown",
      "metadata": {
        "id": "m0JH1YSYlql0"
      },
      "source": [
        "## Mapeando estéticas vs seteando estéticas\n",
        "Una estética (o aesthetic) especifica que una variable será expresada por alguno de los elementos visuales disponibles, como color, forma, tamaño, etc. Ya vimos que los mapeos de variables a estéticas se hacen así:"
      ]
    },
    {
      "cell_type": "code",
      "metadata": {
        "id": "puLd3Dywlqxx"
      },
      "source": [
        "library(ggplot2)\n",
        "p <- ggplot(data = gapminder, mapping = aes(x = gdpPercap,\n",
        "                                            y = lifeExp))"
      ],
      "execution_count": null,
      "outputs": []
    },
    {
      "cell_type": "code",
      "metadata": {
        "id": "1Cs1geWAcbiT"
      },
      "source": [
        "p + geom_point(mapping = aes(color=continent)) +\n",
        "    geom_smooth(method = \"gam\", ) +\n",
        "    scale_x_log10()"
      ],
      "execution_count": null,
      "outputs": []
    },
    {
      "cell_type": "markdown",
      "metadata": {
        "id": "EkQ0y8y7YMXl"
      },
      "source": [
        "Este código no da instrucciones directas del estilo\n",
        "\n",
        "> coloreá los puntos violeta\n",
        "\n",
        "En cambio, lo que hace es decir\n",
        "\n",
        "> la propiedad `color` va a ser representada por la variable `continent`\n",
        "\n",
        "Si quisiéramos que los todos puntos del plot fuera del mismo color (violeta) no seteamos el color dentro de la función de mapping. Si hacemos eso (que está mal) veamos lo que pasa."
      ]
    },
    {
      "cell_type": "code",
      "metadata": {
        "id": "rizEGx8uYPcA"
      },
      "source": [
        "p <- ggplot(data = gapminder,\n",
        "            mapping = aes(x = gdpPercap,\n",
        "                          y = lifeExp))\n",
        "p + geom_point(color = \"purple\") +\n",
        "    geom_smooth(method = \"loess\", color = \"purple\") + #metodo por el cual se hace el suavizado\n",
        "    scale_x_log10()"
      ],
      "execution_count": null,
      "outputs": []
    },
    {
      "cell_type": "markdown",
      "metadata": {
        "id": "sXgEw26JYT9Z"
      },
      "source": [
        "Ok. ¿Qué pasó acá? Hay varias cosas raras\n",
        "\n",
        "- una leyenda que dice \"purple\"\n",
        "- en lugar de estar violetas, todos los puntos están rojos\n",
        "\n",
        "Lo importante acá es que \n",
        "\n",
        "<a href=\"https://imgflip.com/i/540lce\"><img src=\"https://i.imgflip.com/540lce.jpg\" title=\"made at imgflip.com\"/></a><div><a href=\"https://imgflip.com/memegenerator\"></a></div>\n",
        "\n",
        "La función `aes()` es donde esos mapeos son especificados y la función está tratando de resolver eso que le escribimos. Quiere mapear una variable con un set de colores y asume que le vamos a pasar una variable. El problema es que le pasamos un texto y no una variable. Aún así, trata de haer algo y hace como si ese texto \"purple\" fuera una variable. \n",
        "\n",
        "Como una variable debería tener tantas filas como el dataset, la función \"recicla\" ese string. Es como si generar una columna nueva y le pone \"purple\" a todos los casos del dataset. Entonces, todos los elementos del dataset tienen una variable que se llama `color` y tienen valor \"purple\". Y le pone el primer color que, por defecto, usa para variables categóricas: rojo.\n",
        "\n",
        "Conclusión: la función `aes()` sirve para mapeos solamente. No deberíamos usarla para setear o cambiar propiedades con un valor particular, Eso podemos hacer en la capa `geom_` pero fuera del `mapping = aes(...)`:"
      ]
    },
    {
      "cell_type": "code",
      "metadata": {
        "id": "BdrYKq3JYaTc"
      },
      "source": [
        "p <- ggplot(data = gapminder,\n",
        "            mapping = aes(x = gdpPercap,\n",
        "                          y = lifeExp))\n",
        "p + geom_point(color = \"purple\") +\n",
        "    geom_smooth(method = \"loess\") +\n",
        "    scale_x_log10()"
      ],
      "execution_count": null,
      "outputs": []
    },
    {
      "cell_type": "markdown",
      "metadata": {
        "id": "nCJHRP2fYc5I"
      },
      "source": [
        "Ahí vamos. La función `geom_point()` toma como argumento un color directamente. Esto NO es parte del mapeo de estéticas que definen la estructura básica del gráfico. Desde el punto de vista de la gramática del gráfico, el hecho de que los puntos estén coloreados de violeta (o de rojo, o de amarillo patito) es irrelevante. El color así definido no representa ningún mapeo de variables a propiedades estéticas.\n",
        "\n",
        "Las múltiples `geom_` puede tomar muchos otros argumentos que van a afectar cómo se ve el gráfico pero que NO involucran mapeos de variables a elementos estéticos. Estos nunca van dentro de la función  `aes()`. \n",
        "\n",
        "Algunos de esos elementos tienen los mismos nombres que elementos mapeables (color, forma, etc.). Otros como el `method` o el `se` en `geom_smooth()` afechtan otros aspectos del plot.\n",
        "\n",
        "Veamos el siguiente ejemplo:"
      ]
    },
    {
      "cell_type": "code",
      "metadata": {
        "id": "SWT2yIgqYfTI"
      },
      "source": [
        "p <- ggplot(data = gapminder,\n",
        "            mapping = aes(x = gdpPercap,\n",
        "                          y = lifeExp)) \n",
        "p + geom_point(alpha = 0.3) + #transparencia \n",
        "    geom_smooth(color = \"orange\", se = FALSE, size = 8, method = \"lm\") +\n",
        "    scale_x_log10()"
      ],
      "execution_count": null,
      "outputs": []
    },
    {
      "cell_type": "markdown",
      "metadata": {
        "id": "pKcycIQyYjMW"
      },
      "source": [
        "---\n",
        "**Pregunta**\n",
        "\n",
        "En el código anterior, ¿cuáles son los elementos mapeables y cuáles no?\n",
        "\n",
        "---\n",
        "\n",
        "\n",
        "Es interesante ver el arugmento `alpha=`. Como `color`, `size` y demás `alpha` es una propiedad estética que los puntos (y otros elementos del gráfico) tienen y puede ser mapeada a algna variable. De hecho, sería posible mapearla a una variable cuantiativa para que la transparencia del objeto varíe en función de esa propiedad.\n",
        "\n",
        "Controla cuán transparente el objeto va a aparecer en el gráfico. Un objeto con  `alpha=0` va a ser totalmente transparente, o sea, invisible en el gráfico. A la inversa, un objeto con  `alpha=1` va a ser totalmente opaco. En muchos casos, usar un valor intermedio puede ser muy útil para hacer más visible gráficos con mucho solapamiento:"
      ]
    },
    {
      "cell_type": "code",
      "metadata": {
        "id": "5t8X2JFgYq45"
      },
      "source": [
        "p <- ggplot(data = gapminder, mapping = aes(x = gdpPercap, y=lifeExp))\n",
        "p + geom_point(alpha = 0.3) +\n",
        "    geom_smooth(method = \"gam\") +\n",
        "    scale_x_log10(labels = scales::dollar) +\n",
        "    labs(x = \"GDP Per Capita\", y = \"Life Expectancy in Years\",\n",
        "         title = \"Economic Growth and Life Expectancy\",\n",
        "         subtitle = \"Data points are country-years\",\n",
        "         caption = \"Source: Gapminder.\")"
      ],
      "execution_count": null,
      "outputs": []
    },
    {
      "cell_type": "markdown",
      "metadata": {
        "id": "9JOQCsvzYzik"
      },
      "source": [
        "Ahora podemos hacer un plot mucho más pulido.\n",
        "\n",
        "- Setemamos el `alpha` a un valor bajo\n",
        "- Escalamos el eje X de forma logarítmica y seteamos las marcas en dólares\n",
        "- Agregamos título, subtítulo y fuente\n",
        "\n",
        "Como se puede ver, agregamos la capa `labs()` que sirve para definir el texto del `title`, `subtitle` y `caption`. Vamos a ver algo más de esto en las próximas clases.\n",
        "\n",
        "¿Hay alguna variable en nuestro dataset que podamos mapear a la estética  `color`? Podemos intentar colorear por continente. Veamos el código siguiente:\n"
      ]
    },
    {
      "cell_type": "code",
      "metadata": {
        "id": "YE6sF2BZY1yG"
      },
      "source": [
        "p <- ggplot(data = gapminder,\n",
        "            mapping = aes(x = gdpPercap,\n",
        "                          y = lifeExp,\n",
        "                          color = continent))\n",
        "p + geom_point() +\n",
        "    geom_smooth(method = \"loess\") +\n",
        "    scale_x_log10()"
      ],
      "execution_count": null,
      "outputs": []
    },
    {
      "cell_type": "markdown",
      "metadata": {
        "id": "gM_9_dH4Y3nq"
      },
      "source": [
        "Allí seteamos `aes(x = gdpPercap, y = lifeExp, color = continent)` de esta forma cada punto aparece coloreado en función del continente y aparece una clave de color a la derecha. Al mismo tiempo, aparecen 5 líneas de suavizado (una por continente).\n",
        "\n",
        "Como podemos ver, una vez más, las funciones heredan los valores de aestethics seteados en `ggplot()`\n",
        "\n",
        "Podríamos querer que también las líneas de error que ahora están en gris queden coloreadas con el mismo color que el continente. Mientras que `color` controla la apariencia de puntos y líneas (que tienen una dimensión), `fill` controla la apariencia de superifices (como áreas, barras, polígonos, etc.)"
      ]
    },
    {
      "cell_type": "code",
      "metadata": {
        "id": "WPM1YxFTY5u-"
      },
      "source": [
        "p <- ggplot(data = gapminder,\n",
        "            mapping = aes(x = gdpPercap,\n",
        "                          y = lifeExp,\n",
        "                          color = continent,\n",
        "                          fill = continent))\n",
        "p + geom_point() +\n",
        "    geom_smooth(method = \"loess\") +\n",
        "    scale_x_log10()"
      ],
      "execution_count": null,
      "outputs": []
    },
    {
      "cell_type": "markdown",
      "metadata": {
        "id": "MOtGeghCY8Rp"
      },
      "source": [
        "Miren como el gráfico aparece como mucho más impresionante de esta forma. Aquí hay un mapeo y una clave de lectura bien definida."
      ]
    },
    {
      "cell_type": "markdown",
      "metadata": {
        "id": "3DZTuISflq83"
      },
      "source": [
        "## Las estéticas pueden ser mapeadas por cada geometría\n",
        "Quizás cinco suavlizados separados sea demasiado. Podríamos querer una sola línea de tendencia pero mantener los puntos coloreados por continente. Por default cada `geom_` hereda los mapeos que se definieron en `ggplot()`. \n",
        "\n",
        "Pero podemos cambiar esto, modificando los mapeos en cada una de las `geoms_` que querramos. Usamos el mismo `mapping = aes(...)` que al inicio pero ahora lo usamos en las `geoms_`, especifcando qué mapeos queremos en cada una.\n"
      ]
    },
    {
      "cell_type": "code",
      "metadata": {
        "id": "PymYuwBWlrMP"
      },
      "source": [
        "## VARIABLE CATEGORICA\n",
        "p <- ggplot(data = gapminder, mapping = aes(x = gdpPercap, y = lifeExp))\n",
        "p + geom_point(mapping = aes(color = continent)) +\n",
        "    geom_smooth(method = \"loess\") +\n",
        "    scale_x_log10()"
      ],
      "execution_count": null,
      "outputs": []
    },
    {
      "cell_type": "markdown",
      "metadata": {
        "id": "UbbtoKfSacBY"
      },
      "source": [
        "Es posible mapear variables continuas a estéticas de color. Por ejemplo, podemos mapear el logaritmo de la población (`pop`) en cada año-país al color. Dependiendo de las circunstancias este tipo de mapeos será más o menos efectivo que discretizar la variable en grupos."
      ]
    },
    {
      "cell_type": "code",
      "metadata": {
        "id": "SbKNozxNaicq"
      },
      "source": [
        "## VARIABLE CONTINUA\n",
        "p <- ggplot(data = gapminder,\n",
        "            mapping = aes(x = gdpPercap,\n",
        "                          y = lifeExp))\n",
        "p + geom_point(mapping = aes(color = log(pop))) +\n",
        "    scale_x_log10()    "
      ],
      "execution_count": null,
      "outputs": []
    },
    {
      "cell_type": "markdown",
      "metadata": {
        "id": "nynBxBehakZD"
      },
      "source": [
        "Para cerrar, hablemos un poco más sobre la forma en que ggplot usa las escalas. Dado que cada variable mapeada tiene una escaa, podemos aprender mucho sobre como se construye un gráfico y los mapeos que contiene viendo` las legendas.\n",
        "\n",
        "<img src=\"https://socviz.co/assets/ch-03-legends-combined.png\" width=\"300\" height=\"200\" />\n",
        "\n",
        "\n",
        "En la primera vemos unos cuantos elementos:\n",
        "- punto\n",
        "- línea\n",
        "- fondo sombreado\n",
        "\n",
        "La segunda, en cambio, son solamente puntos.\n",
        "\n",
        "Cada uno de los elementos de la leyenda se corresponde con las `geoms_`. \n",
        "\n",
        "En la primera habíamos definido una\n",
        "\n",
        "- geom_point() => se corresponde con el punto\n",
        "- geom_smooth() => se corresponden con las líeas\n",
        "- geom_smooth(fill=continent) => se corresponde con el sombreado de fondo\n",
        "\n",
        "En la segunda, solamente habíamos usado un geom_point.\n",
        "\n",
        "---\n",
        "\n",
        "**Pregunta**\n",
        "\n",
        "Analizar la legenda del siguiente gráfico; ¿a qué `geom_` se corresponde cada elemento?\n",
        "\n",
        "---"
      ]
    },
    {
      "cell_type": "code",
      "metadata": {
        "id": "g84YuYTrJmxu"
      },
      "source": [
        "p <- ggplot(data = gapminder,\n",
        "            mapping = aes(x = gdpPercap,\n",
        "                          y = lifeExp,\n",
        "                          color = continent))\n",
        "p + geom_point() +\n",
        "    geom_smooth(method = \"loess\") +\n",
        "    scale_x_log10()"
      ],
      "execution_count": null,
      "outputs": []
    },
    {
      "cell_type": "markdown",
      "metadata": {
        "id": "Is72MrJMJm4C"
      },
      "source": [
        "Estos detalles no son un accidente. Son una consecuencia direta de la gramática que ggplot usa para definir y construir los gráficos: una forma de pensar de manera sistemática en le relación entre los datos (las variables) y los elementos visuales que los representan.\n",
        "\n",
        "\n",
        "## Resumen\n",
        "\n",
        "<img src=\"https://github.com/gefero/idaes_viz/blob/main/imgs/clase_2_06_summary.png?raw=true\" width=\"900\" height=\"500\" />\n"
      ]
    },
    {
      "cell_type": "markdown",
      "metadata": {
        "id": "7N5JDtLzIUnq"
      },
      "source": [
        "## Ejercicios a resolver\n",
        "\n",
        "Tomen las tres tablas de la semana pasada y transfórmenlas en visualizaciones adecuadas mediante `ggplot`.\n",
        "\n",
        "1. ¿Cuáles son los países con mayor PBI per cápita promedio a lo largo de todo el período?"
      ]
    },
    {
      "cell_type": "code",
      "metadata": {
        "id": "8KZ4h0VYIeAH"
      },
      "source": [
        "d <- gapminder %>%\n",
        "        group_by(country) %>%\n",
        "        summarise(mean_PBI = mean(gdpPercap)) %>%\n",
        "        top_n(10) %>%\n",
        "        ggplot(mapping = aes (x = country, \n",
        "                              y = mean_PBI, \n",
        "                              color = country, \n",
        "                              fill=country))    \n",
        "d + geom_bar(stat='identity', show.legend = F) + \n",
        "    labs(x = \"Países\", y = \"PBI per cápita\", \n",
        "    title = \"Países con mayor PBI per cápita promedio\", \n",
        "    subtitle = \"Periodo 1952 - 2007\", \n",
        "    caption = \"Elabración propia en base a Gapmider\")"
      ],
      "execution_count": null,
      "outputs": []
    },
    {
      "cell_type": "markdown",
      "metadata": {
        "id": "h1VX9V1hInki"
      },
      "source": [
        "2. ¿Cómo es la evolución de la expectativa de vida en Argentina?"
      ]
    },
    {
      "cell_type": "code",
      "metadata": {
        "id": "Rg66XO4TIozy",
        "colab": {
          "base_uri": "https://localhost:8080/",
          "height": 437
        },
        "outputId": "e225146f-44e4-4ac1-8cdc-8a33410def45"
      },
      "source": [
        "gapminder %>%\n",
        "filter(country == 'Argentina') %>%\n",
        "select(country, year, lifeExp)%>%\n",
        "group_by(year) %>%\n",
        "ggplot(mapping=aes(x=year, y=lifeExp)) +\n",
        "  geom_line()"
      ],
      "execution_count": null,
      "outputs": [
        {
          "output_type": "display_data",
          "data": {
            "image/png": "[encoded data removed]",
            "text/plain": [
              "plot without title"
            ]
          },
          "metadata": {
            "tags": [],
            "image/png": {
              "width": 420,
              "height": 420
            }
          }
        }
      ]
    },
    {
      "cell_type": "markdown",
      "metadata": {
        "id": "ijKydH_5Io7W"
      },
      "source": [
        "3. ¿Cómo es la evolución a lo largo de todo el período de la población total por continente?"
      ]
    },
    {
      "cell_type": "code",
      "metadata": {
        "id": "_RlGP7K-IpGg",
        "colab": {
          "base_uri": "https://localhost:8080/",
          "height": 470
        },
        "outputId": "561ec8c0-890e-4c00-bb89-edf4dac53963"
      },
      "source": [
        "gapminder %>%\n",
        "  group_by(continent, year)%>%\n",
        "  summarise(pop_total = sum(pop))%>%\n",
        "  ggplot()+\n",
        "    geom_line(mapping = aes(x=year, y=pop_total, color=continent))\n"
      ],
      "execution_count": null,
      "outputs": [
        {
          "output_type": "stream",
          "text": [
            "`summarise()` has grouped output by 'continent'. You can override using the `.groups` argument.\n",
            "\n"
          ],
          "name": "stderr"
        },
        {
          "output_type": "display_data",
          "data": {
            "image/png": "[encoded data removed]",
            "text/plain": [
              "plot without title"
            ]
          },
          "metadata": {
            "tags": [],
            "image/png": {
              "width": 420,
              "height": 420
            }
          }
        }
      ]
    }
  ]
}